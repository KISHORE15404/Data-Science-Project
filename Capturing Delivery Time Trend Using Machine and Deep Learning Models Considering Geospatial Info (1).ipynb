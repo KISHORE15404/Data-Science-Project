{
 "cells": [
  {
   "cell_type": "code",
   "execution_count": 1,
   "id": "6b53784b",
   "metadata": {},
   "outputs": [],
   "source": [
    "import numpy as np\n",
    "import pandas as pd\n",
    "\n",
    "import matplotlib.pyplot as plt\n",
    "import seaborn as sns\n",
    "\n",
    "from sklearn.model_selection import train_test_split\n",
    "from sklearn.metrics import mean_squared_error,r2_score\n",
    "\n",
    "import tensorflow as tf\n",
    "\n",
    "import warnings\n",
    "warnings. filterwarnings(\"ignore\") "
   ]
  },
  {
   "cell_type": "code",
   "execution_count": 2,
   "id": "4d6e512d",
   "metadata": {},
   "outputs": [],
   "source": [
    "df=pd.read_csv(r\"./deliverytime dataset.txt\")"
   ]
  },
  {
   "cell_type": "code",
   "execution_count": 3,
   "id": "7b105d48",
   "metadata": {},
   "outputs": [
    {
     "data": {
      "text/html": [
       "<div>\n",
       "<style scoped>\n",
       "    .dataframe tbody tr th:only-of-type {\n",
       "        vertical-align: middle;\n",
       "    }\n",
       "\n",
       "    .dataframe tbody tr th {\n",
       "        vertical-align: top;\n",
       "    }\n",
       "\n",
       "    .dataframe thead th {\n",
       "        text-align: right;\n",
       "    }\n",
       "</style>\n",
       "<table border=\"1\" class=\"dataframe\">\n",
       "  <thead>\n",
       "    <tr style=\"text-align: right;\">\n",
       "      <th></th>\n",
       "      <th>ID</th>\n",
       "      <th>Delivery_person_ID</th>\n",
       "      <th>Delivery_person_Age</th>\n",
       "      <th>Delivery_person_Ratings</th>\n",
       "      <th>Restaurant_latitude</th>\n",
       "      <th>Restaurant_longitude</th>\n",
       "      <th>Delivery_location_latitude</th>\n",
       "      <th>Delivery_location_longitude</th>\n",
       "      <th>Type_of_order</th>\n",
       "      <th>Type_of_vehicle</th>\n",
       "      <th>Time_taken(min)</th>\n",
       "    </tr>\n",
       "  </thead>\n",
       "  <tbody>\n",
       "    <tr>\n",
       "      <th>0</th>\n",
       "      <td>4607</td>\n",
       "      <td>INDORES13DEL02</td>\n",
       "      <td>37</td>\n",
       "      <td>4.9</td>\n",
       "      <td>22.745049</td>\n",
       "      <td>75.892471</td>\n",
       "      <td>22.765049</td>\n",
       "      <td>75.912471</td>\n",
       "      <td>Snack</td>\n",
       "      <td>motorcycle</td>\n",
       "      <td>24</td>\n",
       "    </tr>\n",
       "    <tr>\n",
       "      <th>1</th>\n",
       "      <td>B379</td>\n",
       "      <td>BANGRES18DEL02</td>\n",
       "      <td>34</td>\n",
       "      <td>4.5</td>\n",
       "      <td>12.913041</td>\n",
       "      <td>77.683237</td>\n",
       "      <td>13.043041</td>\n",
       "      <td>77.813237</td>\n",
       "      <td>Snack</td>\n",
       "      <td>scooter</td>\n",
       "      <td>33</td>\n",
       "    </tr>\n",
       "    <tr>\n",
       "      <th>2</th>\n",
       "      <td>5D6D</td>\n",
       "      <td>BANGRES19DEL01</td>\n",
       "      <td>23</td>\n",
       "      <td>4.4</td>\n",
       "      <td>12.914264</td>\n",
       "      <td>77.678400</td>\n",
       "      <td>12.924264</td>\n",
       "      <td>77.688400</td>\n",
       "      <td>Drinks</td>\n",
       "      <td>motorcycle</td>\n",
       "      <td>26</td>\n",
       "    </tr>\n",
       "    <tr>\n",
       "      <th>3</th>\n",
       "      <td>7A6A</td>\n",
       "      <td>COIMBRES13DEL02</td>\n",
       "      <td>38</td>\n",
       "      <td>4.7</td>\n",
       "      <td>11.003669</td>\n",
       "      <td>76.976494</td>\n",
       "      <td>11.053669</td>\n",
       "      <td>77.026494</td>\n",
       "      <td>Buffet</td>\n",
       "      <td>motorcycle</td>\n",
       "      <td>21</td>\n",
       "    </tr>\n",
       "    <tr>\n",
       "      <th>4</th>\n",
       "      <td>70A2</td>\n",
       "      <td>CHENRES12DEL01</td>\n",
       "      <td>32</td>\n",
       "      <td>4.6</td>\n",
       "      <td>12.972793</td>\n",
       "      <td>80.249982</td>\n",
       "      <td>13.012793</td>\n",
       "      <td>80.289982</td>\n",
       "      <td>Snack</td>\n",
       "      <td>scooter</td>\n",
       "      <td>30</td>\n",
       "    </tr>\n",
       "  </tbody>\n",
       "</table>\n",
       "</div>"
      ],
      "text/plain": [
       "     ID Delivery_person_ID  Delivery_person_Age  Delivery_person_Ratings  \\\n",
       "0  4607     INDORES13DEL02                   37                      4.9   \n",
       "1  B379     BANGRES18DEL02                   34                      4.5   \n",
       "2  5D6D     BANGRES19DEL01                   23                      4.4   \n",
       "3  7A6A    COIMBRES13DEL02                   38                      4.7   \n",
       "4  70A2     CHENRES12DEL01                   32                      4.6   \n",
       "\n",
       "   Restaurant_latitude  Restaurant_longitude  Delivery_location_latitude  \\\n",
       "0            22.745049             75.892471                   22.765049   \n",
       "1            12.913041             77.683237                   13.043041   \n",
       "2            12.914264             77.678400                   12.924264   \n",
       "3            11.003669             76.976494                   11.053669   \n",
       "4            12.972793             80.249982                   13.012793   \n",
       "\n",
       "   Delivery_location_longitude Type_of_order Type_of_vehicle  Time_taken(min)  \n",
       "0                    75.912471        Snack      motorcycle                24  \n",
       "1                    77.813237        Snack         scooter                33  \n",
       "2                    77.688400       Drinks      motorcycle                26  \n",
       "3                    77.026494       Buffet      motorcycle                21  \n",
       "4                    80.289982        Snack         scooter                30  "
      ]
     },
     "execution_count": 3,
     "metadata": {},
     "output_type": "execute_result"
    }
   ],
   "source": [
    "df.head()"
   ]
  },
  {
   "cell_type": "code",
   "execution_count": 4,
   "id": "f8c7fd0c",
   "metadata": {},
   "outputs": [
    {
     "data": {
      "text/html": [
       "<div>\n",
       "<style scoped>\n",
       "    .dataframe tbody tr th:only-of-type {\n",
       "        vertical-align: middle;\n",
       "    }\n",
       "\n",
       "    .dataframe tbody tr th {\n",
       "        vertical-align: top;\n",
       "    }\n",
       "\n",
       "    .dataframe thead th {\n",
       "        text-align: right;\n",
       "    }\n",
       "</style>\n",
       "<table border=\"1\" class=\"dataframe\">\n",
       "  <thead>\n",
       "    <tr style=\"text-align: right;\">\n",
       "      <th></th>\n",
       "      <th>ID</th>\n",
       "      <th>Delivery_person_ID</th>\n",
       "      <th>Delivery_person_Age</th>\n",
       "      <th>Delivery_person_Ratings</th>\n",
       "      <th>Restaurant_latitude</th>\n",
       "      <th>Restaurant_longitude</th>\n",
       "      <th>Delivery_location_latitude</th>\n",
       "      <th>Delivery_location_longitude</th>\n",
       "      <th>Type_of_order</th>\n",
       "      <th>Type_of_vehicle</th>\n",
       "      <th>Time_taken(min)</th>\n",
       "    </tr>\n",
       "  </thead>\n",
       "  <tbody>\n",
       "    <tr>\n",
       "      <th>45588</th>\n",
       "      <td>7C09</td>\n",
       "      <td>JAPRES04DEL01</td>\n",
       "      <td>30</td>\n",
       "      <td>4.8</td>\n",
       "      <td>26.902328</td>\n",
       "      <td>75.794257</td>\n",
       "      <td>26.912328</td>\n",
       "      <td>75.804257</td>\n",
       "      <td>Meal</td>\n",
       "      <td>motorcycle</td>\n",
       "      <td>32</td>\n",
       "    </tr>\n",
       "    <tr>\n",
       "      <th>45589</th>\n",
       "      <td>D641</td>\n",
       "      <td>AGRRES16DEL01</td>\n",
       "      <td>21</td>\n",
       "      <td>4.6</td>\n",
       "      <td>0.000000</td>\n",
       "      <td>0.000000</td>\n",
       "      <td>0.070000</td>\n",
       "      <td>0.070000</td>\n",
       "      <td>Buffet</td>\n",
       "      <td>motorcycle</td>\n",
       "      <td>36</td>\n",
       "    </tr>\n",
       "    <tr>\n",
       "      <th>45590</th>\n",
       "      <td>4F8D</td>\n",
       "      <td>CHENRES08DEL03</td>\n",
       "      <td>30</td>\n",
       "      <td>4.9</td>\n",
       "      <td>13.022394</td>\n",
       "      <td>80.242439</td>\n",
       "      <td>13.052394</td>\n",
       "      <td>80.272439</td>\n",
       "      <td>Drinks</td>\n",
       "      <td>scooter</td>\n",
       "      <td>16</td>\n",
       "    </tr>\n",
       "    <tr>\n",
       "      <th>45591</th>\n",
       "      <td>5EEE</td>\n",
       "      <td>COIMBRES11DEL01</td>\n",
       "      <td>20</td>\n",
       "      <td>4.7</td>\n",
       "      <td>11.001753</td>\n",
       "      <td>76.986241</td>\n",
       "      <td>11.041753</td>\n",
       "      <td>77.026241</td>\n",
       "      <td>Snack</td>\n",
       "      <td>motorcycle</td>\n",
       "      <td>26</td>\n",
       "    </tr>\n",
       "    <tr>\n",
       "      <th>45592</th>\n",
       "      <td>5FB2</td>\n",
       "      <td>RANCHIRES09DEL02</td>\n",
       "      <td>23</td>\n",
       "      <td>4.9</td>\n",
       "      <td>23.351058</td>\n",
       "      <td>85.325731</td>\n",
       "      <td>23.431058</td>\n",
       "      <td>85.405731</td>\n",
       "      <td>Snack</td>\n",
       "      <td>scooter</td>\n",
       "      <td>36</td>\n",
       "    </tr>\n",
       "  </tbody>\n",
       "</table>\n",
       "</div>"
      ],
      "text/plain": [
       "         ID Delivery_person_ID  Delivery_person_Age  Delivery_person_Ratings  \\\n",
       "45588  7C09      JAPRES04DEL01                   30                      4.8   \n",
       "45589  D641      AGRRES16DEL01                   21                      4.6   \n",
       "45590  4F8D     CHENRES08DEL03                   30                      4.9   \n",
       "45591  5EEE    COIMBRES11DEL01                   20                      4.7   \n",
       "45592  5FB2   RANCHIRES09DEL02                   23                      4.9   \n",
       "\n",
       "       Restaurant_latitude  Restaurant_longitude  Delivery_location_latitude  \\\n",
       "45588            26.902328             75.794257                   26.912328   \n",
       "45589             0.000000              0.000000                    0.070000   \n",
       "45590            13.022394             80.242439                   13.052394   \n",
       "45591            11.001753             76.986241                   11.041753   \n",
       "45592            23.351058             85.325731                   23.431058   \n",
       "\n",
       "       Delivery_location_longitude Type_of_order Type_of_vehicle  \\\n",
       "45588                    75.804257         Meal      motorcycle    \n",
       "45589                     0.070000       Buffet      motorcycle    \n",
       "45590                    80.272439       Drinks         scooter    \n",
       "45591                    77.026241        Snack      motorcycle    \n",
       "45592                    85.405731        Snack         scooter    \n",
       "\n",
       "       Time_taken(min)  \n",
       "45588               32  \n",
       "45589               36  \n",
       "45590               16  \n",
       "45591               26  \n",
       "45592               36  "
      ]
     },
     "execution_count": 4,
     "metadata": {},
     "output_type": "execute_result"
    }
   ],
   "source": [
    "df.tail()"
   ]
  },
  {
   "cell_type": "code",
   "execution_count": 5,
   "id": "54e82fee",
   "metadata": {},
   "outputs": [
    {
     "name": "stdout",
     "output_type": "stream",
     "text": [
      "<class 'pandas.core.frame.DataFrame'>\n",
      "RangeIndex: 45593 entries, 0 to 45592\n",
      "Data columns (total 11 columns):\n",
      " #   Column                       Non-Null Count  Dtype  \n",
      "---  ------                       --------------  -----  \n",
      " 0   ID                           45593 non-null  object \n",
      " 1   Delivery_person_ID           45593 non-null  object \n",
      " 2   Delivery_person_Age          45593 non-null  int64  \n",
      " 3   Delivery_person_Ratings      45593 non-null  float64\n",
      " 4   Restaurant_latitude          45593 non-null  float64\n",
      " 5   Restaurant_longitude         45593 non-null  float64\n",
      " 6   Delivery_location_latitude   45593 non-null  float64\n",
      " 7   Delivery_location_longitude  45593 non-null  float64\n",
      " 8   Type_of_order                45593 non-null  object \n",
      " 9   Type_of_vehicle              45593 non-null  object \n",
      " 10  Time_taken(min)              45593 non-null  int64  \n",
      "dtypes: float64(5), int64(2), object(4)\n",
      "memory usage: 3.8+ MB\n"
     ]
    }
   ],
   "source": [
    "df.info()"
   ]
  },
  {
   "cell_type": "code",
   "execution_count": 6,
   "id": "0fa95679",
   "metadata": {},
   "outputs": [
    {
     "data": {
      "text/plain": [
       "ID                             0\n",
       "Delivery_person_ID             0\n",
       "Delivery_person_Age            0\n",
       "Delivery_person_Ratings        0\n",
       "Restaurant_latitude            0\n",
       "Restaurant_longitude           0\n",
       "Delivery_location_latitude     0\n",
       "Delivery_location_longitude    0\n",
       "Type_of_order                  0\n",
       "Type_of_vehicle                0\n",
       "Time_taken(min)                0\n",
       "dtype: int64"
      ]
     },
     "execution_count": 6,
     "metadata": {},
     "output_type": "execute_result"
    }
   ],
   "source": [
    "df.isnull().sum()"
   ]
  },
  {
   "cell_type": "code",
   "execution_count": 7,
   "id": "f00e2231",
   "metadata": {},
   "outputs": [
    {
     "data": {
      "text/html": [
       "<div>\n",
       "<style scoped>\n",
       "    .dataframe tbody tr th:only-of-type {\n",
       "        vertical-align: middle;\n",
       "    }\n",
       "\n",
       "    .dataframe tbody tr th {\n",
       "        vertical-align: top;\n",
       "    }\n",
       "\n",
       "    .dataframe thead th {\n",
       "        text-align: right;\n",
       "    }\n",
       "</style>\n",
       "<table border=\"1\" class=\"dataframe\">\n",
       "  <thead>\n",
       "    <tr style=\"text-align: right;\">\n",
       "      <th></th>\n",
       "      <th>Delivery_person_Age</th>\n",
       "      <th>Delivery_person_Ratings</th>\n",
       "      <th>Restaurant_latitude</th>\n",
       "      <th>Restaurant_longitude</th>\n",
       "      <th>Delivery_location_latitude</th>\n",
       "      <th>Delivery_location_longitude</th>\n",
       "      <th>Time_taken(min)</th>\n",
       "    </tr>\n",
       "  </thead>\n",
       "  <tbody>\n",
       "    <tr>\n",
       "      <th>count</th>\n",
       "      <td>45593.000000</td>\n",
       "      <td>45593.000000</td>\n",
       "      <td>45593.000000</td>\n",
       "      <td>45593.000000</td>\n",
       "      <td>45593.000000</td>\n",
       "      <td>45593.000000</td>\n",
       "      <td>45593.000000</td>\n",
       "    </tr>\n",
       "    <tr>\n",
       "      <th>mean</th>\n",
       "      <td>29.544075</td>\n",
       "      <td>4.632367</td>\n",
       "      <td>17.017729</td>\n",
       "      <td>70.231332</td>\n",
       "      <td>17.465186</td>\n",
       "      <td>70.845702</td>\n",
       "      <td>26.294607</td>\n",
       "    </tr>\n",
       "    <tr>\n",
       "      <th>std</th>\n",
       "      <td>5.696793</td>\n",
       "      <td>0.327708</td>\n",
       "      <td>8.185109</td>\n",
       "      <td>22.883647</td>\n",
       "      <td>7.335122</td>\n",
       "      <td>21.118812</td>\n",
       "      <td>9.383806</td>\n",
       "    </tr>\n",
       "    <tr>\n",
       "      <th>min</th>\n",
       "      <td>15.000000</td>\n",
       "      <td>1.000000</td>\n",
       "      <td>-30.905562</td>\n",
       "      <td>-88.366217</td>\n",
       "      <td>0.010000</td>\n",
       "      <td>0.010000</td>\n",
       "      <td>10.000000</td>\n",
       "    </tr>\n",
       "    <tr>\n",
       "      <th>25%</th>\n",
       "      <td>25.000000</td>\n",
       "      <td>4.600000</td>\n",
       "      <td>12.933284</td>\n",
       "      <td>73.170000</td>\n",
       "      <td>12.988453</td>\n",
       "      <td>73.280000</td>\n",
       "      <td>19.000000</td>\n",
       "    </tr>\n",
       "    <tr>\n",
       "      <th>50%</th>\n",
       "      <td>29.000000</td>\n",
       "      <td>4.700000</td>\n",
       "      <td>18.546947</td>\n",
       "      <td>75.898497</td>\n",
       "      <td>18.633934</td>\n",
       "      <td>76.002574</td>\n",
       "      <td>26.000000</td>\n",
       "    </tr>\n",
       "    <tr>\n",
       "      <th>75%</th>\n",
       "      <td>34.000000</td>\n",
       "      <td>4.800000</td>\n",
       "      <td>22.728163</td>\n",
       "      <td>78.044095</td>\n",
       "      <td>22.785049</td>\n",
       "      <td>78.107044</td>\n",
       "      <td>32.000000</td>\n",
       "    </tr>\n",
       "    <tr>\n",
       "      <th>max</th>\n",
       "      <td>50.000000</td>\n",
       "      <td>6.000000</td>\n",
       "      <td>30.914057</td>\n",
       "      <td>88.433452</td>\n",
       "      <td>31.054057</td>\n",
       "      <td>88.563452</td>\n",
       "      <td>54.000000</td>\n",
       "    </tr>\n",
       "  </tbody>\n",
       "</table>\n",
       "</div>"
      ],
      "text/plain": [
       "       Delivery_person_Age  Delivery_person_Ratings  Restaurant_latitude  \\\n",
       "count         45593.000000             45593.000000         45593.000000   \n",
       "mean             29.544075                 4.632367            17.017729   \n",
       "std               5.696793                 0.327708             8.185109   \n",
       "min              15.000000                 1.000000           -30.905562   \n",
       "25%              25.000000                 4.600000            12.933284   \n",
       "50%              29.000000                 4.700000            18.546947   \n",
       "75%              34.000000                 4.800000            22.728163   \n",
       "max              50.000000                 6.000000            30.914057   \n",
       "\n",
       "       Restaurant_longitude  Delivery_location_latitude  \\\n",
       "count          45593.000000                45593.000000   \n",
       "mean              70.231332                   17.465186   \n",
       "std               22.883647                    7.335122   \n",
       "min              -88.366217                    0.010000   \n",
       "25%               73.170000                   12.988453   \n",
       "50%               75.898497                   18.633934   \n",
       "75%               78.044095                   22.785049   \n",
       "max               88.433452                   31.054057   \n",
       "\n",
       "       Delivery_location_longitude  Time_taken(min)  \n",
       "count                 45593.000000     45593.000000  \n",
       "mean                     70.845702        26.294607  \n",
       "std                      21.118812         9.383806  \n",
       "min                       0.010000        10.000000  \n",
       "25%                      73.280000        19.000000  \n",
       "50%                      76.002574        26.000000  \n",
       "75%                      78.107044        32.000000  \n",
       "max                      88.563452        54.000000  "
      ]
     },
     "execution_count": 7,
     "metadata": {},
     "output_type": "execute_result"
    }
   ],
   "source": [
    "df.describe()"
   ]
  },
  {
   "cell_type": "code",
   "execution_count": 8,
   "id": "f8e78841",
   "metadata": {},
   "outputs": [
    {
     "data": {
      "text/html": [
       "<div>\n",
       "<style scoped>\n",
       "    .dataframe tbody tr th:only-of-type {\n",
       "        vertical-align: middle;\n",
       "    }\n",
       "\n",
       "    .dataframe tbody tr th {\n",
       "        vertical-align: top;\n",
       "    }\n",
       "\n",
       "    .dataframe thead th {\n",
       "        text-align: right;\n",
       "    }\n",
       "</style>\n",
       "<table border=\"1\" class=\"dataframe\">\n",
       "  <thead>\n",
       "    <tr style=\"text-align: right;\">\n",
       "      <th></th>\n",
       "      <th>Delivery_person_Age</th>\n",
       "      <th>Delivery_person_Ratings</th>\n",
       "      <th>Restaurant_latitude</th>\n",
       "      <th>Restaurant_longitude</th>\n",
       "      <th>Delivery_location_latitude</th>\n",
       "      <th>Delivery_location_longitude</th>\n",
       "      <th>Type_of_order</th>\n",
       "      <th>Type_of_vehicle</th>\n",
       "      <th>Time_taken(min)</th>\n",
       "    </tr>\n",
       "  </thead>\n",
       "  <tbody>\n",
       "    <tr>\n",
       "      <th>0</th>\n",
       "      <td>37</td>\n",
       "      <td>4.9</td>\n",
       "      <td>22.745049</td>\n",
       "      <td>75.892471</td>\n",
       "      <td>22.765049</td>\n",
       "      <td>75.912471</td>\n",
       "      <td>Snack</td>\n",
       "      <td>motorcycle</td>\n",
       "      <td>24</td>\n",
       "    </tr>\n",
       "    <tr>\n",
       "      <th>1</th>\n",
       "      <td>34</td>\n",
       "      <td>4.5</td>\n",
       "      <td>12.913041</td>\n",
       "      <td>77.683237</td>\n",
       "      <td>13.043041</td>\n",
       "      <td>77.813237</td>\n",
       "      <td>Snack</td>\n",
       "      <td>scooter</td>\n",
       "      <td>33</td>\n",
       "    </tr>\n",
       "    <tr>\n",
       "      <th>2</th>\n",
       "      <td>23</td>\n",
       "      <td>4.4</td>\n",
       "      <td>12.914264</td>\n",
       "      <td>77.678400</td>\n",
       "      <td>12.924264</td>\n",
       "      <td>77.688400</td>\n",
       "      <td>Drinks</td>\n",
       "      <td>motorcycle</td>\n",
       "      <td>26</td>\n",
       "    </tr>\n",
       "    <tr>\n",
       "      <th>3</th>\n",
       "      <td>38</td>\n",
       "      <td>4.7</td>\n",
       "      <td>11.003669</td>\n",
       "      <td>76.976494</td>\n",
       "      <td>11.053669</td>\n",
       "      <td>77.026494</td>\n",
       "      <td>Buffet</td>\n",
       "      <td>motorcycle</td>\n",
       "      <td>21</td>\n",
       "    </tr>\n",
       "    <tr>\n",
       "      <th>4</th>\n",
       "      <td>32</td>\n",
       "      <td>4.6</td>\n",
       "      <td>12.972793</td>\n",
       "      <td>80.249982</td>\n",
       "      <td>13.012793</td>\n",
       "      <td>80.289982</td>\n",
       "      <td>Snack</td>\n",
       "      <td>scooter</td>\n",
       "      <td>30</td>\n",
       "    </tr>\n",
       "    <tr>\n",
       "      <th>...</th>\n",
       "      <td>...</td>\n",
       "      <td>...</td>\n",
       "      <td>...</td>\n",
       "      <td>...</td>\n",
       "      <td>...</td>\n",
       "      <td>...</td>\n",
       "      <td>...</td>\n",
       "      <td>...</td>\n",
       "      <td>...</td>\n",
       "    </tr>\n",
       "    <tr>\n",
       "      <th>45588</th>\n",
       "      <td>30</td>\n",
       "      <td>4.8</td>\n",
       "      <td>26.902328</td>\n",
       "      <td>75.794257</td>\n",
       "      <td>26.912328</td>\n",
       "      <td>75.804257</td>\n",
       "      <td>Meal</td>\n",
       "      <td>motorcycle</td>\n",
       "      <td>32</td>\n",
       "    </tr>\n",
       "    <tr>\n",
       "      <th>45589</th>\n",
       "      <td>21</td>\n",
       "      <td>4.6</td>\n",
       "      <td>0.000000</td>\n",
       "      <td>0.000000</td>\n",
       "      <td>0.070000</td>\n",
       "      <td>0.070000</td>\n",
       "      <td>Buffet</td>\n",
       "      <td>motorcycle</td>\n",
       "      <td>36</td>\n",
       "    </tr>\n",
       "    <tr>\n",
       "      <th>45590</th>\n",
       "      <td>30</td>\n",
       "      <td>4.9</td>\n",
       "      <td>13.022394</td>\n",
       "      <td>80.242439</td>\n",
       "      <td>13.052394</td>\n",
       "      <td>80.272439</td>\n",
       "      <td>Drinks</td>\n",
       "      <td>scooter</td>\n",
       "      <td>16</td>\n",
       "    </tr>\n",
       "    <tr>\n",
       "      <th>45591</th>\n",
       "      <td>20</td>\n",
       "      <td>4.7</td>\n",
       "      <td>11.001753</td>\n",
       "      <td>76.986241</td>\n",
       "      <td>11.041753</td>\n",
       "      <td>77.026241</td>\n",
       "      <td>Snack</td>\n",
       "      <td>motorcycle</td>\n",
       "      <td>26</td>\n",
       "    </tr>\n",
       "    <tr>\n",
       "      <th>45592</th>\n",
       "      <td>23</td>\n",
       "      <td>4.9</td>\n",
       "      <td>23.351058</td>\n",
       "      <td>85.325731</td>\n",
       "      <td>23.431058</td>\n",
       "      <td>85.405731</td>\n",
       "      <td>Snack</td>\n",
       "      <td>scooter</td>\n",
       "      <td>36</td>\n",
       "    </tr>\n",
       "  </tbody>\n",
       "</table>\n",
       "<p>45593 rows × 9 columns</p>\n",
       "</div>"
      ],
      "text/plain": [
       "       Delivery_person_Age  Delivery_person_Ratings  Restaurant_latitude  \\\n",
       "0                       37                      4.9            22.745049   \n",
       "1                       34                      4.5            12.913041   \n",
       "2                       23                      4.4            12.914264   \n",
       "3                       38                      4.7            11.003669   \n",
       "4                       32                      4.6            12.972793   \n",
       "...                    ...                      ...                  ...   \n",
       "45588                   30                      4.8            26.902328   \n",
       "45589                   21                      4.6             0.000000   \n",
       "45590                   30                      4.9            13.022394   \n",
       "45591                   20                      4.7            11.001753   \n",
       "45592                   23                      4.9            23.351058   \n",
       "\n",
       "       Restaurant_longitude  Delivery_location_latitude  \\\n",
       "0                 75.892471                   22.765049   \n",
       "1                 77.683237                   13.043041   \n",
       "2                 77.678400                   12.924264   \n",
       "3                 76.976494                   11.053669   \n",
       "4                 80.249982                   13.012793   \n",
       "...                     ...                         ...   \n",
       "45588             75.794257                   26.912328   \n",
       "45589              0.000000                    0.070000   \n",
       "45590             80.242439                   13.052394   \n",
       "45591             76.986241                   11.041753   \n",
       "45592             85.325731                   23.431058   \n",
       "\n",
       "       Delivery_location_longitude Type_of_order Type_of_vehicle  \\\n",
       "0                        75.912471        Snack      motorcycle    \n",
       "1                        77.813237        Snack         scooter    \n",
       "2                        77.688400       Drinks      motorcycle    \n",
       "3                        77.026494       Buffet      motorcycle    \n",
       "4                        80.289982        Snack         scooter    \n",
       "...                            ...           ...             ...   \n",
       "45588                    75.804257         Meal      motorcycle    \n",
       "45589                     0.070000       Buffet      motorcycle    \n",
       "45590                    80.272439       Drinks         scooter    \n",
       "45591                    77.026241        Snack      motorcycle    \n",
       "45592                    85.405731        Snack         scooter    \n",
       "\n",
       "       Time_taken(min)  \n",
       "0                   24  \n",
       "1                   33  \n",
       "2                   26  \n",
       "3                   21  \n",
       "4                   30  \n",
       "...                ...  \n",
       "45588               32  \n",
       "45589               36  \n",
       "45590               16  \n",
       "45591               26  \n",
       "45592               36  \n",
       "\n",
       "[45593 rows x 9 columns]"
      ]
     },
     "execution_count": 8,
     "metadata": {},
     "output_type": "execute_result"
    }
   ],
   "source": [
    "df=df.drop(columns=[\"ID\",\"Delivery_person_ID\"])\n",
    "df"
   ]
  },
  {
   "cell_type": "code",
   "execution_count": 9,
   "id": "ce3203c9-89ef-4e63-8144-bb4dd220497a",
   "metadata": {},
   "outputs": [
    {
     "data": {
      "text/html": [
       "<div>\n",
       "<style scoped>\n",
       "    .dataframe tbody tr th:only-of-type {\n",
       "        vertical-align: middle;\n",
       "    }\n",
       "\n",
       "    .dataframe tbody tr th {\n",
       "        vertical-align: top;\n",
       "    }\n",
       "\n",
       "    .dataframe thead th {\n",
       "        text-align: right;\n",
       "    }\n",
       "</style>\n",
       "<table border=\"1\" class=\"dataframe\">\n",
       "  <thead>\n",
       "    <tr style=\"text-align: right;\">\n",
       "      <th></th>\n",
       "      <th>Delivery_person_Age</th>\n",
       "      <th>Delivery_person_Ratings</th>\n",
       "      <th>Restaurant_latitude</th>\n",
       "      <th>Restaurant_longitude</th>\n",
       "      <th>Delivery_location_latitude</th>\n",
       "      <th>Delivery_location_longitude</th>\n",
       "      <th>Type_of_order</th>\n",
       "      <th>Type_of_vehicle</th>\n",
       "      <th>Time_taken(min)</th>\n",
       "    </tr>\n",
       "  </thead>\n",
       "  <tbody>\n",
       "    <tr>\n",
       "      <th>0</th>\n",
       "      <td>37</td>\n",
       "      <td>4.9</td>\n",
       "      <td>22.745049</td>\n",
       "      <td>75.892471</td>\n",
       "      <td>22.765049</td>\n",
       "      <td>75.912471</td>\n",
       "      <td>Snack</td>\n",
       "      <td>motorcycle</td>\n",
       "      <td>24</td>\n",
       "    </tr>\n",
       "    <tr>\n",
       "      <th>1</th>\n",
       "      <td>34</td>\n",
       "      <td>4.5</td>\n",
       "      <td>12.913041</td>\n",
       "      <td>77.683237</td>\n",
       "      <td>13.043041</td>\n",
       "      <td>77.813237</td>\n",
       "      <td>Snack</td>\n",
       "      <td>scooter</td>\n",
       "      <td>33</td>\n",
       "    </tr>\n",
       "    <tr>\n",
       "      <th>2</th>\n",
       "      <td>23</td>\n",
       "      <td>4.4</td>\n",
       "      <td>12.914264</td>\n",
       "      <td>77.678400</td>\n",
       "      <td>12.924264</td>\n",
       "      <td>77.688400</td>\n",
       "      <td>Drinks</td>\n",
       "      <td>motorcycle</td>\n",
       "      <td>26</td>\n",
       "    </tr>\n",
       "    <tr>\n",
       "      <th>3</th>\n",
       "      <td>38</td>\n",
       "      <td>4.7</td>\n",
       "      <td>11.003669</td>\n",
       "      <td>76.976494</td>\n",
       "      <td>11.053669</td>\n",
       "      <td>77.026494</td>\n",
       "      <td>Buffet</td>\n",
       "      <td>motorcycle</td>\n",
       "      <td>21</td>\n",
       "    </tr>\n",
       "    <tr>\n",
       "      <th>4</th>\n",
       "      <td>32</td>\n",
       "      <td>4.6</td>\n",
       "      <td>12.972793</td>\n",
       "      <td>80.249982</td>\n",
       "      <td>13.012793</td>\n",
       "      <td>80.289982</td>\n",
       "      <td>Snack</td>\n",
       "      <td>scooter</td>\n",
       "      <td>30</td>\n",
       "    </tr>\n",
       "  </tbody>\n",
       "</table>\n",
       "</div>"
      ],
      "text/plain": [
       "   Delivery_person_Age  Delivery_person_Ratings  Restaurant_latitude  \\\n",
       "0                   37                      4.9            22.745049   \n",
       "1                   34                      4.5            12.913041   \n",
       "2                   23                      4.4            12.914264   \n",
       "3                   38                      4.7            11.003669   \n",
       "4                   32                      4.6            12.972793   \n",
       "\n",
       "   Restaurant_longitude  Delivery_location_latitude  \\\n",
       "0             75.892471                   22.765049   \n",
       "1             77.683237                   13.043041   \n",
       "2             77.678400                   12.924264   \n",
       "3             76.976494                   11.053669   \n",
       "4             80.249982                   13.012793   \n",
       "\n",
       "   Delivery_location_longitude Type_of_order Type_of_vehicle  Time_taken(min)  \n",
       "0                    75.912471        Snack      motorcycle                24  \n",
       "1                    77.813237        Snack         scooter                33  \n",
       "2                    77.688400       Drinks      motorcycle                26  \n",
       "3                    77.026494       Buffet      motorcycle                21  \n",
       "4                    80.289982        Snack         scooter                30  "
      ]
     },
     "execution_count": 9,
     "metadata": {},
     "output_type": "execute_result"
    }
   ],
   "source": [
    "df.head()"
   ]
  },
  {
   "cell_type": "code",
   "execution_count": 10,
   "id": "aed8a115",
   "metadata": {},
   "outputs": [
    {
     "data": {
      "text/plain": [
       "(53, 9)"
      ]
     },
     "execution_count": 10,
     "metadata": {},
     "output_type": "execute_result"
    }
   ],
   "source": [
    "df[df[\"Delivery_person_Ratings\"]>5.0].shape #we can see some person gave rating above the 5.0"
   ]
  },
  {
   "cell_type": "code",
   "execution_count": 11,
   "id": "4c7bbc7e",
   "metadata": {},
   "outputs": [],
   "source": [
    "df[\"Delivery_person_Ratings\"]=df[\"Delivery_person_Ratings\"].apply(lambda x:5.0 if x>5.0 else x)  # we convert the person rating to 5.0"
   ]
  },
  {
   "cell_type": "code",
   "execution_count": 12,
   "id": "d362c434",
   "metadata": {},
   "outputs": [],
   "source": [
    "# we can calculate the distance by  using the Restaurant_latitude,Restaurant_longitude,Delivery_location_latitude,Delivery_location_longitude\n",
    "import math\n",
    "\n",
    "def calculate_distance(lat1, lon1, lat2, lon2):\n",
    "    R = 6371  \n",
    "\n",
    "    lat1_rad = math.radians(lat1)\n",
    "    lon1_rad = math.radians(lon1)\n",
    "    lat2_rad = math.radians(lat2)\n",
    "    lon2_rad = math.radians(lon2)\n",
    "\n",
    "    delta_lat = lat2_rad - lat1_rad\n",
    "    delta_lon = lon2_rad - lon1_rad\n",
    "\n",
    "    a = math.sin(delta_lat / 2) ** 2 + math.cos(lat1_rad) * math.cos(lat2_rad) * math.sin(delta_lon / 2) ** 2\n",
    "    c = 2 * math.atan2(math.sqrt(a), math.sqrt(1 - a))\n",
    "\n",
    "    distance = R * c\n",
    "\n",
    "    return distance\n"
   ]
  },
  {
   "cell_type": "code",
   "execution_count": 13,
   "id": "0e0ba657",
   "metadata": {},
   "outputs": [],
   "source": [
    "dist_col=[\"Restaurant_latitude\",\"Restaurant_longitude\",\"Delivery_location_latitude\",\"Delivery_location_longitude\"]"
   ]
  },
  {
   "cell_type": "code",
   "execution_count": 14,
   "id": "1dc01b62",
   "metadata": {},
   "outputs": [],
   "source": [
    "df['Distance'] = df[dist_col].apply(\n",
    "    lambda x:calculate_distance(x[0], x[1], x[2], x[3]), \n",
    "    axis=1)"
   ]
  },
  {
   "cell_type": "code",
   "execution_count": 15,
   "id": "1481bff6",
   "metadata": {},
   "outputs": [],
   "source": [
    "d=['Delivery_person_Age','Delivery_person_Ratings','Time_taken(min)']"
   ]
  },
  {
   "cell_type": "code",
   "execution_count": 16,
   "id": "237ffe43",
   "metadata": {},
   "outputs": [
    {
     "data": {
      "image/png": "[encoded data removed]",
      "text/plain": [
       "<Figure size 1000x500 with 1 Axes>"
      ]
     },
     "metadata": {},
     "output_type": "display_data"
    }
   ],
   "source": [
    "plt.figure(figsize=(10,5))\n",
    "sns.boxplot(df[d])\n",
    "plt.xticks()\n",
    "plt.show()"
   ]
  },
  {
   "cell_type": "code",
   "execution_count": 17,
   "id": "2579387c",
   "metadata": {},
   "outputs": [
    {
     "data": {
      "image/png": "[encoded data removed]",
      "text/plain": [
       "<Figure size 1000x500 with 1 Axes>"
      ]
     },
     "metadata": {},
     "output_type": "display_data"
    }
   ],
   "source": [
    "plt.figure(figsize=(10,5))\n",
    "sns.boxplot(df[dist_col])\n",
    "plt.xticks()\n",
    "plt.show()"
   ]
  },
  {
   "cell_type": "code",
   "execution_count": 18,
   "id": "0650e297",
   "metadata": {
    "scrolled": true
   },
   "outputs": [
    {
     "data": {
      "text/html": [
       "<div>\n",
       "<style scoped>\n",
       "    .dataframe tbody tr th:only-of-type {\n",
       "        vertical-align: middle;\n",
       "    }\n",
       "\n",
       "    .dataframe tbody tr th {\n",
       "        vertical-align: top;\n",
       "    }\n",
       "\n",
       "    .dataframe thead th {\n",
       "        text-align: right;\n",
       "    }\n",
       "</style>\n",
       "<table border=\"1\" class=\"dataframe\">\n",
       "  <thead>\n",
       "    <tr style=\"text-align: right;\">\n",
       "      <th></th>\n",
       "      <th>Delivery_person_Age</th>\n",
       "      <th>Delivery_person_Ratings</th>\n",
       "      <th>Restaurant_latitude</th>\n",
       "      <th>Restaurant_longitude</th>\n",
       "      <th>Delivery_location_latitude</th>\n",
       "      <th>Delivery_location_longitude</th>\n",
       "      <th>Type_of_order</th>\n",
       "      <th>Type_of_vehicle</th>\n",
       "      <th>Time_taken(min)</th>\n",
       "      <th>Distance</th>\n",
       "    </tr>\n",
       "  </thead>\n",
       "  <tbody>\n",
       "    <tr>\n",
       "      <th>0</th>\n",
       "      <td>37</td>\n",
       "      <td>4.9</td>\n",
       "      <td>22.745049</td>\n",
       "      <td>75.892471</td>\n",
       "      <td>22.765049</td>\n",
       "      <td>75.912471</td>\n",
       "      <td>Snack</td>\n",
       "      <td>motorcycle</td>\n",
       "      <td>24</td>\n",
       "      <td>3.025149</td>\n",
       "    </tr>\n",
       "    <tr>\n",
       "      <th>1</th>\n",
       "      <td>34</td>\n",
       "      <td>4.5</td>\n",
       "      <td>12.913041</td>\n",
       "      <td>77.683237</td>\n",
       "      <td>13.043041</td>\n",
       "      <td>77.813237</td>\n",
       "      <td>Snack</td>\n",
       "      <td>scooter</td>\n",
       "      <td>33</td>\n",
       "      <td>20.183530</td>\n",
       "    </tr>\n",
       "    <tr>\n",
       "      <th>2</th>\n",
       "      <td>23</td>\n",
       "      <td>4.4</td>\n",
       "      <td>12.914264</td>\n",
       "      <td>77.678400</td>\n",
       "      <td>12.924264</td>\n",
       "      <td>77.688400</td>\n",
       "      <td>Drinks</td>\n",
       "      <td>motorcycle</td>\n",
       "      <td>26</td>\n",
       "      <td>1.552758</td>\n",
       "    </tr>\n",
       "    <tr>\n",
       "      <th>3</th>\n",
       "      <td>38</td>\n",
       "      <td>4.7</td>\n",
       "      <td>11.003669</td>\n",
       "      <td>76.976494</td>\n",
       "      <td>11.053669</td>\n",
       "      <td>77.026494</td>\n",
       "      <td>Buffet</td>\n",
       "      <td>motorcycle</td>\n",
       "      <td>21</td>\n",
       "      <td>7.790401</td>\n",
       "    </tr>\n",
       "    <tr>\n",
       "      <th>4</th>\n",
       "      <td>32</td>\n",
       "      <td>4.6</td>\n",
       "      <td>12.972793</td>\n",
       "      <td>80.249982</td>\n",
       "      <td>13.012793</td>\n",
       "      <td>80.289982</td>\n",
       "      <td>Snack</td>\n",
       "      <td>scooter</td>\n",
       "      <td>30</td>\n",
       "      <td>6.210138</td>\n",
       "    </tr>\n",
       "  </tbody>\n",
       "</table>\n",
       "</div>"
      ],
      "text/plain": [
       "   Delivery_person_Age  Delivery_person_Ratings  Restaurant_latitude  \\\n",
       "0                   37                      4.9            22.745049   \n",
       "1                   34                      4.5            12.913041   \n",
       "2                   23                      4.4            12.914264   \n",
       "3                   38                      4.7            11.003669   \n",
       "4                   32                      4.6            12.972793   \n",
       "\n",
       "   Restaurant_longitude  Delivery_location_latitude  \\\n",
       "0             75.892471                   22.765049   \n",
       "1             77.683237                   13.043041   \n",
       "2             77.678400                   12.924264   \n",
       "3             76.976494                   11.053669   \n",
       "4             80.249982                   13.012793   \n",
       "\n",
       "   Delivery_location_longitude Type_of_order Type_of_vehicle  Time_taken(min)  \\\n",
       "0                    75.912471        Snack      motorcycle                24   \n",
       "1                    77.813237        Snack         scooter                33   \n",
       "2                    77.688400       Drinks      motorcycle                26   \n",
       "3                    77.026494       Buffet      motorcycle                21   \n",
       "4                    80.289982        Snack         scooter                30   \n",
       "\n",
       "    Distance  \n",
       "0   3.025149  \n",
       "1  20.183530  \n",
       "2   1.552758  \n",
       "3   7.790401  \n",
       "4   6.210138  "
      ]
     },
     "execution_count": 18,
     "metadata": {},
     "output_type": "execute_result"
    }
   ],
   "source": [
    "df.head()"
   ]
  },
  {
   "cell_type": "code",
   "execution_count": 19,
   "id": "ac1d0d6f",
   "metadata": {},
   "outputs": [
    {
     "data": {
      "text/html": [
       "<div>\n",
       "<style scoped>\n",
       "    .dataframe tbody tr th:only-of-type {\n",
       "        vertical-align: middle;\n",
       "    }\n",
       "\n",
       "    .dataframe tbody tr th {\n",
       "        vertical-align: top;\n",
       "    }\n",
       "\n",
       "    .dataframe thead th {\n",
       "        text-align: right;\n",
       "    }\n",
       "</style>\n",
       "<table border=\"1\" class=\"dataframe\">\n",
       "  <thead>\n",
       "    <tr style=\"text-align: right;\">\n",
       "      <th></th>\n",
       "      <th>Buffet</th>\n",
       "      <th>Drinks</th>\n",
       "      <th>Meal</th>\n",
       "      <th>Snack</th>\n",
       "    </tr>\n",
       "  </thead>\n",
       "  <tbody>\n",
       "    <tr>\n",
       "      <th>0</th>\n",
       "      <td>0</td>\n",
       "      <td>0</td>\n",
       "      <td>0</td>\n",
       "      <td>1</td>\n",
       "    </tr>\n",
       "    <tr>\n",
       "      <th>1</th>\n",
       "      <td>0</td>\n",
       "      <td>0</td>\n",
       "      <td>0</td>\n",
       "      <td>1</td>\n",
       "    </tr>\n",
       "    <tr>\n",
       "      <th>2</th>\n",
       "      <td>0</td>\n",
       "      <td>1</td>\n",
       "      <td>0</td>\n",
       "      <td>0</td>\n",
       "    </tr>\n",
       "    <tr>\n",
       "      <th>3</th>\n",
       "      <td>1</td>\n",
       "      <td>0</td>\n",
       "      <td>0</td>\n",
       "      <td>0</td>\n",
       "    </tr>\n",
       "    <tr>\n",
       "      <th>4</th>\n",
       "      <td>0</td>\n",
       "      <td>0</td>\n",
       "      <td>0</td>\n",
       "      <td>1</td>\n",
       "    </tr>\n",
       "  </tbody>\n",
       "</table>\n",
       "</div>"
      ],
      "text/plain": [
       "   Buffet   Drinks   Meal   Snack \n",
       "0        0        0      0       1\n",
       "1        0        0      0       1\n",
       "2        0        1      0       0\n",
       "3        1        0      0       0\n",
       "4        0        0      0       1"
      ]
     },
     "execution_count": 19,
     "metadata": {},
     "output_type": "execute_result"
    }
   ],
   "source": [
    "Type_of_order=pd.get_dummies(df[\"Type_of_order\"], dtype= 'int')\n",
    "Type_of_order.head()"
   ]
  },
  {
   "cell_type": "code",
   "execution_count": 20,
   "id": "3b34fa45",
   "metadata": {},
   "outputs": [
    {
     "data": {
      "text/html": [
       "<div>\n",
       "<style scoped>\n",
       "    .dataframe tbody tr th:only-of-type {\n",
       "        vertical-align: middle;\n",
       "    }\n",
       "\n",
       "    .dataframe tbody tr th {\n",
       "        vertical-align: top;\n",
       "    }\n",
       "\n",
       "    .dataframe thead th {\n",
       "        text-align: right;\n",
       "    }\n",
       "</style>\n",
       "<table border=\"1\" class=\"dataframe\">\n",
       "  <thead>\n",
       "    <tr style=\"text-align: right;\">\n",
       "      <th></th>\n",
       "      <th>bicycle</th>\n",
       "      <th>electric_scooter</th>\n",
       "      <th>motorcycle</th>\n",
       "      <th>scooter</th>\n",
       "    </tr>\n",
       "  </thead>\n",
       "  <tbody>\n",
       "    <tr>\n",
       "      <th>0</th>\n",
       "      <td>0</td>\n",
       "      <td>0</td>\n",
       "      <td>1</td>\n",
       "      <td>0</td>\n",
       "    </tr>\n",
       "    <tr>\n",
       "      <th>1</th>\n",
       "      <td>0</td>\n",
       "      <td>0</td>\n",
       "      <td>0</td>\n",
       "      <td>1</td>\n",
       "    </tr>\n",
       "    <tr>\n",
       "      <th>2</th>\n",
       "      <td>0</td>\n",
       "      <td>0</td>\n",
       "      <td>1</td>\n",
       "      <td>0</td>\n",
       "    </tr>\n",
       "    <tr>\n",
       "      <th>3</th>\n",
       "      <td>0</td>\n",
       "      <td>0</td>\n",
       "      <td>1</td>\n",
       "      <td>0</td>\n",
       "    </tr>\n",
       "    <tr>\n",
       "      <th>4</th>\n",
       "      <td>0</td>\n",
       "      <td>0</td>\n",
       "      <td>0</td>\n",
       "      <td>1</td>\n",
       "    </tr>\n",
       "  </tbody>\n",
       "</table>\n",
       "</div>"
      ],
      "text/plain": [
       "   bicycle   electric_scooter   motorcycle   scooter \n",
       "0         0                  0            1         0\n",
       "1         0                  0            0         1\n",
       "2         0                  0            1         0\n",
       "3         0                  0            1         0\n",
       "4         0                  0            0         1"
      ]
     },
     "execution_count": 20,
     "metadata": {},
     "output_type": "execute_result"
    }
   ],
   "source": [
    "Type_of_vehicle=pd.get_dummies(df[\"Type_of_vehicle\"], dtype= 'int')\n",
    "Type_of_vehicle.head()"
   ]
  },
  {
   "cell_type": "code",
   "execution_count": 21,
   "id": "a8b40995",
   "metadata": {},
   "outputs": [],
   "source": [
    "df=pd.concat([df,Type_of_order,Type_of_vehicle],axis=1)"
   ]
  },
  {
   "cell_type": "code",
   "execution_count": 22,
   "id": "76e5df4f",
   "metadata": {},
   "outputs": [],
   "source": [
    "df=df.drop(columns=[\"Type_of_order\",\"Type_of_vehicle\"])"
   ]
  },
  {
   "cell_type": "code",
   "execution_count": 23,
   "id": "291bfedc",
   "metadata": {},
   "outputs": [
    {
     "data": {
      "text/html": [
       "<div>\n",
       "<style scoped>\n",
       "    .dataframe tbody tr th:only-of-type {\n",
       "        vertical-align: middle;\n",
       "    }\n",
       "\n",
       "    .dataframe tbody tr th {\n",
       "        vertical-align: top;\n",
       "    }\n",
       "\n",
       "    .dataframe thead th {\n",
       "        text-align: right;\n",
       "    }\n",
       "</style>\n",
       "<table border=\"1\" class=\"dataframe\">\n",
       "  <thead>\n",
       "    <tr style=\"text-align: right;\">\n",
       "      <th></th>\n",
       "      <th>Delivery_person_Age</th>\n",
       "      <th>Delivery_person_Ratings</th>\n",
       "      <th>Restaurant_latitude</th>\n",
       "      <th>Restaurant_longitude</th>\n",
       "      <th>Delivery_location_latitude</th>\n",
       "      <th>Delivery_location_longitude</th>\n",
       "      <th>Time_taken(min)</th>\n",
       "      <th>Distance</th>\n",
       "      <th>Buffet</th>\n",
       "      <th>Drinks</th>\n",
       "      <th>Meal</th>\n",
       "      <th>Snack</th>\n",
       "      <th>bicycle</th>\n",
       "      <th>electric_scooter</th>\n",
       "      <th>motorcycle</th>\n",
       "      <th>scooter</th>\n",
       "    </tr>\n",
       "  </thead>\n",
       "  <tbody>\n",
       "    <tr>\n",
       "      <th>0</th>\n",
       "      <td>37</td>\n",
       "      <td>4.9</td>\n",
       "      <td>22.745049</td>\n",
       "      <td>75.892471</td>\n",
       "      <td>22.765049</td>\n",
       "      <td>75.912471</td>\n",
       "      <td>24</td>\n",
       "      <td>3.025149</td>\n",
       "      <td>0</td>\n",
       "      <td>0</td>\n",
       "      <td>0</td>\n",
       "      <td>1</td>\n",
       "      <td>0</td>\n",
       "      <td>0</td>\n",
       "      <td>1</td>\n",
       "      <td>0</td>\n",
       "    </tr>\n",
       "    <tr>\n",
       "      <th>1</th>\n",
       "      <td>34</td>\n",
       "      <td>4.5</td>\n",
       "      <td>12.913041</td>\n",
       "      <td>77.683237</td>\n",
       "      <td>13.043041</td>\n",
       "      <td>77.813237</td>\n",
       "      <td>33</td>\n",
       "      <td>20.183530</td>\n",
       "      <td>0</td>\n",
       "      <td>0</td>\n",
       "      <td>0</td>\n",
       "      <td>1</td>\n",
       "      <td>0</td>\n",
       "      <td>0</td>\n",
       "      <td>0</td>\n",
       "      <td>1</td>\n",
       "    </tr>\n",
       "    <tr>\n",
       "      <th>2</th>\n",
       "      <td>23</td>\n",
       "      <td>4.4</td>\n",
       "      <td>12.914264</td>\n",
       "      <td>77.678400</td>\n",
       "      <td>12.924264</td>\n",
       "      <td>77.688400</td>\n",
       "      <td>26</td>\n",
       "      <td>1.552758</td>\n",
       "      <td>0</td>\n",
       "      <td>1</td>\n",
       "      <td>0</td>\n",
       "      <td>0</td>\n",
       "      <td>0</td>\n",
       "      <td>0</td>\n",
       "      <td>1</td>\n",
       "      <td>0</td>\n",
       "    </tr>\n",
       "    <tr>\n",
       "      <th>3</th>\n",
       "      <td>38</td>\n",
       "      <td>4.7</td>\n",
       "      <td>11.003669</td>\n",
       "      <td>76.976494</td>\n",
       "      <td>11.053669</td>\n",
       "      <td>77.026494</td>\n",
       "      <td>21</td>\n",
       "      <td>7.790401</td>\n",
       "      <td>1</td>\n",
       "      <td>0</td>\n",
       "      <td>0</td>\n",
       "      <td>0</td>\n",
       "      <td>0</td>\n",
       "      <td>0</td>\n",
       "      <td>1</td>\n",
       "      <td>0</td>\n",
       "    </tr>\n",
       "    <tr>\n",
       "      <th>4</th>\n",
       "      <td>32</td>\n",
       "      <td>4.6</td>\n",
       "      <td>12.972793</td>\n",
       "      <td>80.249982</td>\n",
       "      <td>13.012793</td>\n",
       "      <td>80.289982</td>\n",
       "      <td>30</td>\n",
       "      <td>6.210138</td>\n",
       "      <td>0</td>\n",
       "      <td>0</td>\n",
       "      <td>0</td>\n",
       "      <td>1</td>\n",
       "      <td>0</td>\n",
       "      <td>0</td>\n",
       "      <td>0</td>\n",
       "      <td>1</td>\n",
       "    </tr>\n",
       "  </tbody>\n",
       "</table>\n",
       "</div>"
      ],
      "text/plain": [
       "   Delivery_person_Age  Delivery_person_Ratings  Restaurant_latitude  \\\n",
       "0                   37                      4.9            22.745049   \n",
       "1                   34                      4.5            12.913041   \n",
       "2                   23                      4.4            12.914264   \n",
       "3                   38                      4.7            11.003669   \n",
       "4                   32                      4.6            12.972793   \n",
       "\n",
       "   Restaurant_longitude  Delivery_location_latitude  \\\n",
       "0             75.892471                   22.765049   \n",
       "1             77.683237                   13.043041   \n",
       "2             77.678400                   12.924264   \n",
       "3             76.976494                   11.053669   \n",
       "4             80.249982                   13.012793   \n",
       "\n",
       "   Delivery_location_longitude  Time_taken(min)   Distance  Buffet   Drinks   \\\n",
       "0                    75.912471               24   3.025149        0        0   \n",
       "1                    77.813237               33  20.183530        0        0   \n",
       "2                    77.688400               26   1.552758        0        1   \n",
       "3                    77.026494               21   7.790401        1        0   \n",
       "4                    80.289982               30   6.210138        0        0   \n",
       "\n",
       "   Meal   Snack   bicycle   electric_scooter   motorcycle   scooter   \n",
       "0      0       1         0                  0            1         0  \n",
       "1      0       1         0                  0            0         1  \n",
       "2      0       0         0                  0            1         0  \n",
       "3      0       0         0                  0            1         0  \n",
       "4      0       1         0                  0            0         1  "
      ]
     },
     "execution_count": 23,
     "metadata": {},
     "output_type": "execute_result"
    }
   ],
   "source": [
    "df.head()"
   ]
  },
  {
   "cell_type": "code",
   "execution_count": 24,
   "id": "eebb4384",
   "metadata": {},
   "outputs": [],
   "source": [
    "cols=['Delivery_person_Age','Delivery_person_Ratings','Restaurant_latitude','Restaurant_longitude','Delivery_location_latitude','Delivery_location_longitude','Distance']"
   ]
  },
  {
   "cell_type": "code",
   "execution_count": 25,
   "id": "1aa375d8",
   "metadata": {},
   "outputs": [],
   "source": [
    "from sklearn.preprocessing import StandardScaler\n",
    "std=StandardScaler()\n",
    "df[cols]=std.fit_transform(df[cols])"
   ]
  },
  {
   "cell_type": "code",
   "execution_count": 26,
   "id": "42d9b9e4",
   "metadata": {},
   "outputs": [
    {
     "data": {
      "text/html": [
       "<div>\n",
       "<style scoped>\n",
       "    .dataframe tbody tr th:only-of-type {\n",
       "        vertical-align: middle;\n",
       "    }\n",
       "\n",
       "    .dataframe tbody tr th {\n",
       "        vertical-align: top;\n",
       "    }\n",
       "\n",
       "    .dataframe thead th {\n",
       "        text-align: right;\n",
       "    }\n",
       "</style>\n",
       "<table border=\"1\" class=\"dataframe\">\n",
       "  <thead>\n",
       "    <tr style=\"text-align: right;\">\n",
       "      <th></th>\n",
       "      <th>Delivery_person_Age</th>\n",
       "      <th>Delivery_person_Ratings</th>\n",
       "      <th>Restaurant_latitude</th>\n",
       "      <th>Restaurant_longitude</th>\n",
       "      <th>Delivery_location_latitude</th>\n",
       "      <th>Delivery_location_longitude</th>\n",
       "      <th>Time_taken(min)</th>\n",
       "      <th>Distance</th>\n",
       "      <th>Buffet</th>\n",
       "      <th>Drinks</th>\n",
       "      <th>Meal</th>\n",
       "      <th>Snack</th>\n",
       "      <th>bicycle</th>\n",
       "      <th>electric_scooter</th>\n",
       "      <th>motorcycle</th>\n",
       "      <th>scooter</th>\n",
       "    </tr>\n",
       "  </thead>\n",
       "  <tbody>\n",
       "    <tr>\n",
       "      <th>0</th>\n",
       "      <td>1.308808</td>\n",
       "      <td>0.828058</td>\n",
       "      <td>0.699732</td>\n",
       "      <td>0.247391</td>\n",
       "      <td>0.722540</td>\n",
       "      <td>0.239920</td>\n",
       "      <td>24</td>\n",
       "      <td>-0.087548</td>\n",
       "      <td>0</td>\n",
       "      <td>0</td>\n",
       "      <td>0</td>\n",
       "      <td>1</td>\n",
       "      <td>0</td>\n",
       "      <td>0</td>\n",
       "      <td>1</td>\n",
       "      <td>0</td>\n",
       "    </tr>\n",
       "    <tr>\n",
       "      <th>1</th>\n",
       "      <td>0.782190</td>\n",
       "      <td>-0.404191</td>\n",
       "      <td>-0.501488</td>\n",
       "      <td>0.325647</td>\n",
       "      <td>-0.602879</td>\n",
       "      <td>0.329924</td>\n",
       "      <td>33</td>\n",
       "      <td>-0.071946</td>\n",
       "      <td>0</td>\n",
       "      <td>0</td>\n",
       "      <td>0</td>\n",
       "      <td>1</td>\n",
       "      <td>0</td>\n",
       "      <td>0</td>\n",
       "      <td>0</td>\n",
       "      <td>1</td>\n",
       "    </tr>\n",
       "    <tr>\n",
       "      <th>2</th>\n",
       "      <td>-1.148742</td>\n",
       "      <td>-0.712254</td>\n",
       "      <td>-0.501338</td>\n",
       "      <td>0.325435</td>\n",
       "      <td>-0.619072</td>\n",
       "      <td>0.324013</td>\n",
       "      <td>26</td>\n",
       "      <td>-0.088887</td>\n",
       "      <td>0</td>\n",
       "      <td>1</td>\n",
       "      <td>0</td>\n",
       "      <td>0</td>\n",
       "      <td>0</td>\n",
       "      <td>0</td>\n",
       "      <td>1</td>\n",
       "      <td>0</td>\n",
       "    </tr>\n",
       "    <tr>\n",
       "      <th>3</th>\n",
       "      <td>1.484347</td>\n",
       "      <td>0.211934</td>\n",
       "      <td>-0.734764</td>\n",
       "      <td>0.294762</td>\n",
       "      <td>-0.874094</td>\n",
       "      <td>0.292671</td>\n",
       "      <td>21</td>\n",
       "      <td>-0.083215</td>\n",
       "      <td>1</td>\n",
       "      <td>0</td>\n",
       "      <td>0</td>\n",
       "      <td>0</td>\n",
       "      <td>0</td>\n",
       "      <td>0</td>\n",
       "      <td>1</td>\n",
       "      <td>0</td>\n",
       "    </tr>\n",
       "    <tr>\n",
       "      <th>4</th>\n",
       "      <td>0.431111</td>\n",
       "      <td>-0.096129</td>\n",
       "      <td>-0.494188</td>\n",
       "      <td>0.437813</td>\n",
       "      <td>-0.607003</td>\n",
       "      <td>0.447202</td>\n",
       "      <td>30</td>\n",
       "      <td>-0.084652</td>\n",
       "      <td>0</td>\n",
       "      <td>0</td>\n",
       "      <td>0</td>\n",
       "      <td>1</td>\n",
       "      <td>0</td>\n",
       "      <td>0</td>\n",
       "      <td>0</td>\n",
       "      <td>1</td>\n",
       "    </tr>\n",
       "  </tbody>\n",
       "</table>\n",
       "</div>"
      ],
      "text/plain": [
       "   Delivery_person_Age  Delivery_person_Ratings  Restaurant_latitude  \\\n",
       "0             1.308808                 0.828058             0.699732   \n",
       "1             0.782190                -0.404191            -0.501488   \n",
       "2            -1.148742                -0.712254            -0.501338   \n",
       "3             1.484347                 0.211934            -0.734764   \n",
       "4             0.431111                -0.096129            -0.494188   \n",
       "\n",
       "   Restaurant_longitude  Delivery_location_latitude  \\\n",
       "0              0.247391                    0.722540   \n",
       "1              0.325647                   -0.602879   \n",
       "2              0.325435                   -0.619072   \n",
       "3              0.294762                   -0.874094   \n",
       "4              0.437813                   -0.607003   \n",
       "\n",
       "   Delivery_location_longitude  Time_taken(min)  Distance  Buffet   Drinks   \\\n",
       "0                     0.239920               24 -0.087548        0        0   \n",
       "1                     0.329924               33 -0.071946        0        0   \n",
       "2                     0.324013               26 -0.088887        0        1   \n",
       "3                     0.292671               21 -0.083215        1        0   \n",
       "4                     0.447202               30 -0.084652        0        0   \n",
       "\n",
       "   Meal   Snack   bicycle   electric_scooter   motorcycle   scooter   \n",
       "0      0       1         0                  0            1         0  \n",
       "1      0       1         0                  0            0         1  \n",
       "2      0       0         0                  0            1         0  \n",
       "3      0       0         0                  0            1         0  \n",
       "4      0       1         0                  0            0         1  "
      ]
     },
     "execution_count": 26,
     "metadata": {},
     "output_type": "execute_result"
    }
   ],
   "source": [
    "df.head()"
   ]
  },
  {
   "cell_type": "code",
   "execution_count": 27,
   "id": "b60dfd13-d9b0-4f49-a30c-5683b265b7d1",
   "metadata": {},
   "outputs": [
    {
     "name": "stdout",
     "output_type": "stream",
     "text": [
      "<class 'pandas.core.frame.DataFrame'>\n",
      "RangeIndex: 45593 entries, 0 to 45592\n",
      "Data columns (total 16 columns):\n",
      " #   Column                       Non-Null Count  Dtype  \n",
      "---  ------                       --------------  -----  \n",
      " 0   Delivery_person_Age          45593 non-null  float64\n",
      " 1   Delivery_person_Ratings      45593 non-null  float64\n",
      " 2   Restaurant_latitude          45593 non-null  float64\n",
      " 3   Restaurant_longitude         45593 non-null  float64\n",
      " 4   Delivery_location_latitude   45593 non-null  float64\n",
      " 5   Delivery_location_longitude  45593 non-null  float64\n",
      " 6   Time_taken(min)              45593 non-null  int64  \n",
      " 7   Distance                     45593 non-null  float64\n",
      " 8   Buffet                       45593 non-null  int32  \n",
      " 9   Drinks                       45593 non-null  int32  \n",
      " 10  Meal                         45593 non-null  int32  \n",
      " 11  Snack                        45593 non-null  int32  \n",
      " 12  bicycle                      45593 non-null  int32  \n",
      " 13  electric_scooter             45593 non-null  int32  \n",
      " 14  motorcycle                   45593 non-null  int32  \n",
      " 15  scooter                      45593 non-null  int32  \n",
      "dtypes: float64(7), int32(8), int64(1)\n",
      "memory usage: 4.2 MB\n"
     ]
    }
   ],
   "source": [
    "df.info()"
   ]
  },
  {
   "cell_type": "code",
   "execution_count": 28,
   "id": "19c85b4a",
   "metadata": {},
   "outputs": [],
   "source": [
    "X=df.drop(columns=[\"Time_taken(min)\"])\n",
    "y=df.loc[:,\"Time_taken(min)\"]"
   ]
  },
  {
   "cell_type": "code",
   "execution_count": 29,
   "id": "b2a0761c",
   "metadata": {},
   "outputs": [],
   "source": [
    "X_train,X_test,y_train,y_test=train_test_split(X,y,test_size=0.20,random_state=0)"
   ]
  },
  {
   "cell_type": "code",
   "execution_count": 30,
   "id": "e31887bb-5239-4d21-b61f-8f09a0c8c229",
   "metadata": {},
   "outputs": [
    {
     "data": {
      "text/html": [
       "<div>\n",
       "<style scoped>\n",
       "    .dataframe tbody tr th:only-of-type {\n",
       "        vertical-align: middle;\n",
       "    }\n",
       "\n",
       "    .dataframe tbody tr th {\n",
       "        vertical-align: top;\n",
       "    }\n",
       "\n",
       "    .dataframe thead th {\n",
       "        text-align: right;\n",
       "    }\n",
       "</style>\n",
       "<table border=\"1\" class=\"dataframe\">\n",
       "  <thead>\n",
       "    <tr style=\"text-align: right;\">\n",
       "      <th></th>\n",
       "      <th>Delivery_person_Age</th>\n",
       "      <th>Delivery_person_Ratings</th>\n",
       "      <th>Restaurant_latitude</th>\n",
       "      <th>Restaurant_longitude</th>\n",
       "      <th>Delivery_location_latitude</th>\n",
       "      <th>Delivery_location_longitude</th>\n",
       "      <th>Distance</th>\n",
       "      <th>Buffet</th>\n",
       "      <th>Drinks</th>\n",
       "      <th>Meal</th>\n",
       "      <th>Snack</th>\n",
       "      <th>bicycle</th>\n",
       "      <th>electric_scooter</th>\n",
       "      <th>motorcycle</th>\n",
       "      <th>scooter</th>\n",
       "    </tr>\n",
       "  </thead>\n",
       "  <tbody>\n",
       "    <tr>\n",
       "      <th>21862</th>\n",
       "      <td>0.080033</td>\n",
       "      <td>-2.560628</td>\n",
       "      <td>-5.397490</td>\n",
       "      <td>0.339997</td>\n",
       "      <td>1.340912</td>\n",
       "      <td>0.345947</td>\n",
       "      <td>5.416451</td>\n",
       "      <td>0</td>\n",
       "      <td>0</td>\n",
       "      <td>0</td>\n",
       "      <td>1</td>\n",
       "      <td>0</td>\n",
       "      <td>0</td>\n",
       "      <td>1</td>\n",
       "      <td>0</td>\n",
       "    </tr>\n",
       "    <tr>\n",
       "      <th>24165</th>\n",
       "      <td>1.484347</td>\n",
       "      <td>-0.096129</td>\n",
       "      <td>0.049908</td>\n",
       "      <td>0.357297</td>\n",
       "      <td>0.001505</td>\n",
       "      <td>0.360431</td>\n",
       "      <td>-0.083312</td>\n",
       "      <td>0</td>\n",
       "      <td>0</td>\n",
       "      <td>0</td>\n",
       "      <td>1</td>\n",
       "      <td>0</td>\n",
       "      <td>1</td>\n",
       "      <td>0</td>\n",
       "      <td>0</td>\n",
       "    </tr>\n",
       "    <tr>\n",
       "      <th>31141</th>\n",
       "      <td>0.782190</td>\n",
       "      <td>-1.944504</td>\n",
       "      <td>0.776695</td>\n",
       "      <td>0.660049</td>\n",
       "      <td>0.811148</td>\n",
       "      <td>0.688009</td>\n",
       "      <td>-0.084810</td>\n",
       "      <td>0</td>\n",
       "      <td>0</td>\n",
       "      <td>0</td>\n",
       "      <td>1</td>\n",
       "      <td>0</td>\n",
       "      <td>0</td>\n",
       "      <td>0</td>\n",
       "      <td>1</td>\n",
       "    </tr>\n",
       "    <tr>\n",
       "      <th>2743</th>\n",
       "      <td>0.080033</td>\n",
       "      <td>0.519996</td>\n",
       "      <td>-0.732148</td>\n",
       "      <td>0.296462</td>\n",
       "      <td>-0.875265</td>\n",
       "      <td>0.293092</td>\n",
       "      <td>-0.087466</td>\n",
       "      <td>0</td>\n",
       "      <td>0</td>\n",
       "      <td>0</td>\n",
       "      <td>1</td>\n",
       "      <td>0</td>\n",
       "      <td>0</td>\n",
       "      <td>0</td>\n",
       "      <td>1</td>\n",
       "    </tr>\n",
       "    <tr>\n",
       "      <th>14292</th>\n",
       "      <td>1.484347</td>\n",
       "      <td>-1.020316</td>\n",
       "      <td>-0.574313</td>\n",
       "      <td>0.278444</td>\n",
       "      <td>-0.690960</td>\n",
       "      <td>0.276409</td>\n",
       "      <td>-0.078992</td>\n",
       "      <td>1</td>\n",
       "      <td>0</td>\n",
       "      <td>0</td>\n",
       "      <td>0</td>\n",
       "      <td>0</td>\n",
       "      <td>0</td>\n",
       "      <td>0</td>\n",
       "      <td>1</td>\n",
       "    </tr>\n",
       "  </tbody>\n",
       "</table>\n",
       "</div>"
      ],
      "text/plain": [
       "       Delivery_person_Age  Delivery_person_Ratings  Restaurant_latitude  \\\n",
       "21862             0.080033                -2.560628            -5.397490   \n",
       "24165             1.484347                -0.096129             0.049908   \n",
       "31141             0.782190                -1.944504             0.776695   \n",
       "2743              0.080033                 0.519996            -0.732148   \n",
       "14292             1.484347                -1.020316            -0.574313   \n",
       "\n",
       "       Restaurant_longitude  Delivery_location_latitude  \\\n",
       "21862              0.339997                    1.340912   \n",
       "24165              0.357297                    0.001505   \n",
       "31141              0.660049                    0.811148   \n",
       "2743               0.296462                   -0.875265   \n",
       "14292              0.278444                   -0.690960   \n",
       "\n",
       "       Delivery_location_longitude  Distance  Buffet   Drinks   Meal   Snack   \\\n",
       "21862                     0.345947  5.416451        0        0      0       1   \n",
       "24165                     0.360431 -0.083312        0        0      0       1   \n",
       "31141                     0.688009 -0.084810        0        0      0       1   \n",
       "2743                      0.293092 -0.087466        0        0      0       1   \n",
       "14292                     0.276409 -0.078992        1        0      0       0   \n",
       "\n",
       "       bicycle   electric_scooter   motorcycle   scooter   \n",
       "21862         0                  0            1         0  \n",
       "24165         0                  1            0         0  \n",
       "31141         0                  0            0         1  \n",
       "2743          0                  0            0         1  \n",
       "14292         0                  0            0         1  "
      ]
     },
     "execution_count": 30,
     "metadata": {},
     "output_type": "execute_result"
    }
   ],
   "source": [
    "X_train.head()"
   ]
  },
  {
   "cell_type": "code",
   "execution_count": 31,
   "id": "da99531c-f920-45f7-aadc-d3ead7d2c5fa",
   "metadata": {},
   "outputs": [
    {
     "data": {
      "text/plain": [
       "21862    31\n",
       "24165    22\n",
       "31141    31\n",
       "2743     24\n",
       "14292    33\n",
       "Name: Time_taken(min), dtype: int64"
      ]
     },
     "execution_count": 31,
     "metadata": {},
     "output_type": "execute_result"
    }
   ],
   "source": [
    "y_train.head()"
   ]
  },
  {
   "cell_type": "code",
   "execution_count": 32,
   "id": "efe705b6-0592-4548-8c72-e5593166e4a6",
   "metadata": {},
   "outputs": [],
   "source": [
    "metric_r2 = {}\n",
    "metric_mse = {}\n",
    "metric_tt = {}"
   ]
  },
  {
   "cell_type": "code",
   "execution_count": 33,
   "id": "a7677399",
   "metadata": {},
   "outputs": [
    {
     "name": "stdout",
     "output_type": "stream",
     "text": [
      "Time taken for Random Forest 56.408527s\n"
     ]
    }
   ],
   "source": [
    "from sklearn.ensemble import RandomForestRegressor\n",
    "rndf=RandomForestRegressor()\n",
    "start = pd.Timestamp.now()\n",
    "rndf.fit(X_train,y_train)\n",
    "timeTaken_rf = pd.Timestamp.now() - start\n",
    "print(f\"Time taken for Random Forest {timeTaken_rf.total_seconds()}s\")\n",
    "metric_tt[\"Random Forest\"] = timeTaken_rf"
   ]
  },
  {
   "cell_type": "code",
   "execution_count": 34,
   "id": "eb0d889f-7b44-46c5-8af5-6c43fa9a9baf",
   "metadata": {},
   "outputs": [],
   "source": [
    "y_pred_rf =rndf.predict(X_train)"
   ]
  },
  {
   "cell_type": "code",
   "execution_count": 35,
   "id": "adba2503-6df1-4d76-8edc-23da65a9c195",
   "metadata": {},
   "outputs": [
    {
     "data": {
      "text/plain": [
       "array([33.74, 22.71, 31.73, 23.31, 35.57])"
      ]
     },
     "execution_count": 35,
     "metadata": {},
     "output_type": "execute_result"
    }
   ],
   "source": [
    "y_pred_rf[:5]"
   ]
  },
  {
   "cell_type": "code",
   "execution_count": 36,
   "id": "112c54e9-71cf-4aff-8e5c-760b7ee51883",
   "metadata": {},
   "outputs": [
    {
     "data": {
      "text/plain": [
       "21862    31\n",
       "24165    22\n",
       "31141    31\n",
       "2743     24\n",
       "14292    33\n",
       "Name: Time_taken(min), dtype: int64"
      ]
     },
     "execution_count": 36,
     "metadata": {},
     "output_type": "execute_result"
    }
   ],
   "source": [
    "y_train[:5]"
   ]
  },
  {
   "cell_type": "code",
   "execution_count": 37,
   "id": "e5b2532f",
   "metadata": {},
   "outputs": [
    {
     "name": "stdout",
     "output_type": "stream",
     "text": [
      "Mean Squared Error for Random Forest 8.818119468613903\n"
     ]
    }
   ],
   "source": [
    "mse=mean_squared_error(y_true = y_train, y_pred = y_pred_rf)\n",
    "print(f\"Mean Squared Error for Random Forest {mse}\")\n",
    "metric_mse[\"Random Forest\"] = mse"
   ]
  },
  {
   "cell_type": "code",
   "execution_count": 38,
   "id": "c01fa35b",
   "metadata": {},
   "outputs": [
    {
     "name": "stdout",
     "output_type": "stream",
     "text": [
      "R2 score for Random Forest 0.9000231466732362\n"
     ]
    }
   ],
   "source": [
    "r2=r2_score(y_true = y_train, y_pred = y_pred_rf)\n",
    "print(f\"R2 score for Random Forest {r2}\")\n",
    "metric_r2[\"Random Forest\"] = r2"
   ]
  },
  {
   "cell_type": "code",
   "execution_count": 39,
   "id": "63fc47d3",
   "metadata": {},
   "outputs": [
    {
     "name": "stdout",
     "output_type": "stream",
     "text": [
      "Time taken for Decision Tree 0.633303s\n"
     ]
    }
   ],
   "source": [
    "from sklearn.tree import DecisionTreeRegressor\n",
    "tree=DecisionTreeRegressor()\n",
    "start = pd.Timestamp.now()\n",
    "tree.fit(X_train,y_train)\n",
    "timeTaken_dt = pd.Timestamp.now() - start\n",
    "print(f\"Time taken for Decision Tree {timeTaken_dt.total_seconds()}s\")\n",
    "metric_tt[\"Decision Tree\"] = timeTaken_dt"
   ]
  },
  {
   "cell_type": "code",
   "execution_count": 40,
   "id": "f4c920e6-cba2-4829-9d80-1d0a9581646f",
   "metadata": {},
   "outputs": [],
   "source": [
    "y_pred_dt =tree.predict(X_train)"
   ]
  },
  {
   "cell_type": "code",
   "execution_count": 41,
   "id": "30ac4ab7-1629-4068-8f1d-2e029fc462c3",
   "metadata": {},
   "outputs": [
    {
     "data": {
      "text/plain": [
       "array([31., 22., 31., 24., 33.])"
      ]
     },
     "execution_count": 41,
     "metadata": {},
     "output_type": "execute_result"
    }
   ],
   "source": [
    "y_pred_dt[:5]"
   ]
  },
  {
   "cell_type": "code",
   "execution_count": 42,
   "id": "ba813b2d-8a05-4194-ace6-f501965e6239",
   "metadata": {},
   "outputs": [
    {
     "data": {
      "text/plain": [
       "21862    31\n",
       "24165    22\n",
       "31141    31\n",
       "2743     24\n",
       "14292    33\n",
       "Name: Time_taken(min), dtype: int64"
      ]
     },
     "execution_count": 42,
     "metadata": {},
     "output_type": "execute_result"
    }
   ],
   "source": [
    "y_train[:5]"
   ]
  },
  {
   "cell_type": "code",
   "execution_count": 43,
   "id": "010b5a4c-c202-408a-b59e-20447af0a137",
   "metadata": {},
   "outputs": [
    {
     "name": "stdout",
     "output_type": "stream",
     "text": [
      "Mean Squared Error for Decision Tree 0.7846182668933122\n"
     ]
    }
   ],
   "source": [
    "mse=mean_squared_error(y_true = y_train, y_pred = y_pred_dt)\n",
    "print(f\"Mean Squared Error for Decision Tree {mse}\")\n",
    "metric_mse[\"Decision Tree\"] = mse"
   ]
  },
  {
   "cell_type": "code",
   "execution_count": 44,
   "id": "a4512b9f-ccf6-4027-b206-5c74475e53b8",
   "metadata": {},
   "outputs": [
    {
     "name": "stdout",
     "output_type": "stream",
     "text": [
      "R2 score for Decision Tree 0.9911042637077107\n"
     ]
    }
   ],
   "source": [
    "r2=r2_score(y_true = y_train, y_pred = y_pred_dt)\n",
    "print(f\"R2 score for Decision Tree {r2}\")\n",
    "metric_r2[\"Decision Tree\"] = r2"
   ]
  },
  {
   "cell_type": "code",
   "execution_count": 45,
   "id": "5868b885",
   "metadata": {},
   "outputs": [
    {
     "name": "stdout",
     "output_type": "stream",
     "text": [
      "Time taken for XG Boost 0.646445s\n"
     ]
    }
   ],
   "source": [
    "from xgboost import XGBRegressor\n",
    "xgb=XGBRegressor()\n",
    "start = pd.Timestamp.now()\n",
    "xgb.fit(X_train,y_train)\n",
    "timeTaken_xgb = pd.Timestamp.now() - start\n",
    "print(f\"Time taken for XG Boost {timeTaken_xgb.total_seconds()}s\")\n",
    "metric_tt[\"XG Boost\"] = timeTaken_xgb"
   ]
  },
  {
   "cell_type": "code",
   "execution_count": 46,
   "id": "f983c5aa-1c8b-4d5d-8437-7d70ccb65f87",
   "metadata": {},
   "outputs": [],
   "source": [
    "y_pred_xgb =xgb.predict(X_train)"
   ]
  },
  {
   "cell_type": "code",
   "execution_count": 47,
   "id": "eb32cc67-6b87-429c-927c-5ec89d5d0016",
   "metadata": {},
   "outputs": [
    {
     "data": {
      "text/plain": [
       "array([33.82722 , 23.801882, 32.96875 , 21.885853, 39.169712],\n",
       "      dtype=float32)"
      ]
     },
     "execution_count": 47,
     "metadata": {},
     "output_type": "execute_result"
    }
   ],
   "source": [
    "y_pred_xgb[:5]"
   ]
  },
  {
   "cell_type": "code",
   "execution_count": 48,
   "id": "9e29b34e-da0e-48d8-a8cd-d5bc06831743",
   "metadata": {},
   "outputs": [
    {
     "data": {
      "text/plain": [
       "21862    31\n",
       "24165    22\n",
       "31141    31\n",
       "2743     24\n",
       "14292    33\n",
       "Name: Time_taken(min), dtype: int64"
      ]
     },
     "execution_count": 48,
     "metadata": {},
     "output_type": "execute_result"
    }
   ],
   "source": [
    "y_train[:5]"
   ]
  },
  {
   "cell_type": "code",
   "execution_count": 49,
   "id": "ccfc1107-7229-4372-9eb3-225749f5427d",
   "metadata": {},
   "outputs": [
    {
     "name": "stdout",
     "output_type": "stream",
     "text": [
      "Mean Squared Error for XG Boost 41.945074564555185\n"
     ]
    }
   ],
   "source": [
    "mse=mean_squared_error(y_true = y_train, y_pred = y_pred_xgb)\n",
    "print(f\"Mean Squared Error for XG Boost {mse}\")\n",
    "metric_mse[\"XG Boost\"] = mse"
   ]
  },
  {
   "cell_type": "code",
   "execution_count": 50,
   "id": "551b109a-b149-4bb3-b5a6-a67adc391b2d",
   "metadata": {},
   "outputs": [
    {
     "name": "stdout",
     "output_type": "stream",
     "text": [
      "R2 score for XG Boost 0.5244409443026208\n"
     ]
    }
   ],
   "source": [
    "r2=r2_score(y_true = y_train, y_pred = y_pred_xgb)\n",
    "print(f\"R2 score for XG Boost {r2}\")\n",
    "metric_r2[\"XG Boost\"] = r2"
   ]
  },
  {
   "cell_type": "code",
   "execution_count": 51,
   "id": "4f7343d1",
   "metadata": {},
   "outputs": [],
   "source": [
    "model_cnn=tf.keras.models.Sequential([tf.keras.layers.Dense(units=6 ,activation=\"relu\"),\n",
    "                                  tf.keras.layers.Dense(units=6,activation=\"relu\"),\n",
    "                                  tf.keras.layers.Dense(units=4,activation=\"relu\"),\n",
    "                                  tf.keras.layers.Dense(units=5,activation=\"relu\"),\n",
    "                                  tf.keras.layers.Dense(units=1)])"
   ]
  },
  {
   "cell_type": "code",
   "execution_count": 52,
   "id": "42eeaec7",
   "metadata": {},
   "outputs": [],
   "source": [
    "model_cnn.compile(optimizer=\"rmsprop\",loss=\"mse\",metrics=[tf.keras.metrics.MeanSquaredError])"
   ]
  },
  {
   "cell_type": "code",
   "execution_count": 53,
   "id": "392499a2",
   "metadata": {},
   "outputs": [
    {
     "name": "stdout",
     "output_type": "stream",
     "text": [
      "Epoch 1/100\n",
      "\u001b[1m1140/1140\u001b[0m \u001b[32m━━━━━━━━━━━━━━━━━━━━\u001b[0m\u001b[37m\u001b[0m \u001b[1m6s\u001b[0m 2ms/step - loss: 478.7241 - mean_squared_error: 478.7241\n",
      "Epoch 2/100\n",
      "\u001b[1m1140/1140\u001b[0m \u001b[32m━━━━━━━━━━━━━━━━━━━━\u001b[0m\u001b[37m\u001b[0m \u001b[1m3s\u001b[0m 3ms/step - loss: 72.4651 - mean_squared_error: 72.4651\n",
      "Epoch 3/100\n",
      "\u001b[1m1140/1140\u001b[0m \u001b[32m━━━━━━━━━━━━━━━━━━━━\u001b[0m\u001b[37m\u001b[0m \u001b[1m2s\u001b[0m 2ms/step - loss: 70.5590 - mean_squared_error: 70.5590\n",
      "Epoch 4/100\n",
      "\u001b[1m1140/1140\u001b[0m \u001b[32m━━━━━━━━━━━━━━━━━━━━\u001b[0m\u001b[37m\u001b[0m \u001b[1m2s\u001b[0m 2ms/step - loss: 70.2730 - mean_squared_error: 70.2730\n",
      "Epoch 5/100\n",
      "\u001b[1m1140/1140\u001b[0m \u001b[32m━━━━━━━━━━━━━━━━━━━━\u001b[0m\u001b[37m\u001b[0m \u001b[1m2s\u001b[0m 2ms/step - loss: 70.3312 - mean_squared_error: 70.3312\n",
      "Epoch 6/100\n",
      "\u001b[1m1140/1140\u001b[0m \u001b[32m━━━━━━━━━━━━━━━━━━━━\u001b[0m\u001b[37m\u001b[0m \u001b[1m2s\u001b[0m 2ms/step - loss: 69.7140 - mean_squared_error: 69.7140\n",
      "Epoch 7/100\n",
      "\u001b[1m1140/1140\u001b[0m \u001b[32m━━━━━━━━━━━━━━━━━━━━\u001b[0m\u001b[37m\u001b[0m \u001b[1m2s\u001b[0m 2ms/step - loss: 70.5684 - mean_squared_error: 70.5684\n",
      "Epoch 8/100\n",
      "\u001b[1m1140/1140\u001b[0m \u001b[32m━━━━━━━━━━━━━━━━━━━━\u001b[0m\u001b[37m\u001b[0m \u001b[1m2s\u001b[0m 2ms/step - loss: 70.3911 - mean_squared_error: 70.3911\n",
      "Epoch 9/100\n",
      "\u001b[1m1140/1140\u001b[0m \u001b[32m━━━━━━━━━━━━━━━━━━━━\u001b[0m\u001b[37m\u001b[0m \u001b[1m3s\u001b[0m 2ms/step - loss: 70.2683 - mean_squared_error: 70.2683\n",
      "Epoch 10/100\n",
      "\u001b[1m1140/1140\u001b[0m \u001b[32m━━━━━━━━━━━━━━━━━━━━\u001b[0m\u001b[37m\u001b[0m \u001b[1m3s\u001b[0m 2ms/step - loss: 69.9919 - mean_squared_error: 69.9919\n",
      "Epoch 11/100\n",
      "\u001b[1m1140/1140\u001b[0m \u001b[32m━━━━━━━━━━━━━━━━━━━━\u001b[0m\u001b[37m\u001b[0m \u001b[1m3s\u001b[0m 2ms/step - loss: 70.0611 - mean_squared_error: 70.0611\n",
      "Epoch 12/100\n",
      "\u001b[1m1140/1140\u001b[0m \u001b[32m━━━━━━━━━━━━━━━━━━━━\u001b[0m\u001b[37m\u001b[0m \u001b[1m3s\u001b[0m 2ms/step - loss: 69.3653 - mean_squared_error: 69.3653\n",
      "Epoch 13/100\n",
      "\u001b[1m1140/1140\u001b[0m \u001b[32m━━━━━━━━━━━━━━━━━━━━\u001b[0m\u001b[37m\u001b[0m \u001b[1m3s\u001b[0m 2ms/step - loss: 69.7767 - mean_squared_error: 69.7767\n",
      "Epoch 14/100\n",
      "\u001b[1m1140/1140\u001b[0m \u001b[32m━━━━━━━━━━━━━━━━━━━━\u001b[0m\u001b[37m\u001b[0m \u001b[1m3s\u001b[0m 2ms/step - loss: 71.1996 - mean_squared_error: 71.1996\n",
      "Epoch 15/100\n",
      "\u001b[1m1140/1140\u001b[0m \u001b[32m━━━━━━━━━━━━━━━━━━━━\u001b[0m\u001b[37m\u001b[0m \u001b[1m5s\u001b[0m 2ms/step - loss: 68.7216 - mean_squared_error: 68.7216\n",
      "Epoch 16/100\n",
      "\u001b[1m1140/1140\u001b[0m \u001b[32m━━━━━━━━━━━━━━━━━━━━\u001b[0m\u001b[37m\u001b[0m \u001b[1m3s\u001b[0m 2ms/step - loss: 70.6051 - mean_squared_error: 70.6051\n",
      "Epoch 17/100\n",
      "\u001b[1m1140/1140\u001b[0m \u001b[32m━━━━━━━━━━━━━━━━━━━━\u001b[0m\u001b[37m\u001b[0m \u001b[1m3s\u001b[0m 2ms/step - loss: 70.0381 - mean_squared_error: 70.0381\n",
      "Epoch 18/100\n",
      "\u001b[1m1140/1140\u001b[0m \u001b[32m━━━━━━━━━━━━━━━━━━━━\u001b[0m\u001b[37m\u001b[0m \u001b[1m5s\u001b[0m 2ms/step - loss: 69.4682 - mean_squared_error: 69.4682\n",
      "Epoch 19/100\n",
      "\u001b[1m1140/1140\u001b[0m \u001b[32m━━━━━━━━━━━━━━━━━━━━\u001b[0m\u001b[37m\u001b[0m \u001b[1m3s\u001b[0m 2ms/step - loss: 69.7388 - mean_squared_error: 69.7388\n",
      "Epoch 20/100\n",
      "\u001b[1m1140/1140\u001b[0m \u001b[32m━━━━━━━━━━━━━━━━━━━━\u001b[0m\u001b[37m\u001b[0m \u001b[1m3s\u001b[0m 2ms/step - loss: 70.6123 - mean_squared_error: 70.6123\n",
      "Epoch 21/100\n",
      "\u001b[1m1140/1140\u001b[0m \u001b[32m━━━━━━━━━━━━━━━━━━━━\u001b[0m\u001b[37m\u001b[0m \u001b[1m3s\u001b[0m 2ms/step - loss: 69.8927 - mean_squared_error: 69.8927\n",
      "Epoch 22/100\n",
      "\u001b[1m1140/1140\u001b[0m \u001b[32m━━━━━━━━━━━━━━━━━━━━\u001b[0m\u001b[37m\u001b[0m \u001b[1m3s\u001b[0m 2ms/step - loss: 70.2441 - mean_squared_error: 70.2441\n",
      "Epoch 23/100\n",
      "\u001b[1m1140/1140\u001b[0m \u001b[32m━━━━━━━━━━━━━━━━━━━━\u001b[0m\u001b[37m\u001b[0m \u001b[1m3s\u001b[0m 2ms/step - loss: 70.4542 - mean_squared_error: 70.4542\n",
      "Epoch 24/100\n",
      "\u001b[1m1140/1140\u001b[0m \u001b[32m━━━━━━━━━━━━━━━━━━━━\u001b[0m\u001b[37m\u001b[0m \u001b[1m3s\u001b[0m 2ms/step - loss: 69.7705 - mean_squared_error: 69.7705\n",
      "Epoch 25/100\n",
      "\u001b[1m1140/1140\u001b[0m \u001b[32m━━━━━━━━━━━━━━━━━━━━\u001b[0m\u001b[37m\u001b[0m \u001b[1m5s\u001b[0m 2ms/step - loss: 70.9256 - mean_squared_error: 70.9256\n",
      "Epoch 26/100\n",
      "\u001b[1m1140/1140\u001b[0m \u001b[32m━━━━━━━━━━━━━━━━━━━━\u001b[0m\u001b[37m\u001b[0m \u001b[1m3s\u001b[0m 3ms/step - loss: 70.3645 - mean_squared_error: 70.3645\n",
      "Epoch 27/100\n",
      "\u001b[1m1140/1140\u001b[0m \u001b[32m━━━━━━━━━━━━━━━━━━━━\u001b[0m\u001b[37m\u001b[0m \u001b[1m4s\u001b[0m 3ms/step - loss: 69.5422 - mean_squared_error: 69.5422\n",
      "Epoch 28/100\n",
      "\u001b[1m1140/1140\u001b[0m \u001b[32m━━━━━━━━━━━━━━━━━━━━\u001b[0m\u001b[37m\u001b[0m \u001b[1m3s\u001b[0m 2ms/step - loss: 69.2455 - mean_squared_error: 69.2455\n",
      "Epoch 29/100\n",
      "\u001b[1m1140/1140\u001b[0m \u001b[32m━━━━━━━━━━━━━━━━━━━━\u001b[0m\u001b[37m\u001b[0m \u001b[1m3s\u001b[0m 2ms/step - loss: 69.4478 - mean_squared_error: 69.4478\n",
      "Epoch 30/100\n",
      "\u001b[1m1140/1140\u001b[0m \u001b[32m━━━━━━━━━━━━━━━━━━━━\u001b[0m\u001b[37m\u001b[0m \u001b[1m3s\u001b[0m 2ms/step - loss: 69.4909 - mean_squared_error: 69.4909\n",
      "Epoch 31/100\n",
      "\u001b[1m1140/1140\u001b[0m \u001b[32m━━━━━━━━━━━━━━━━━━━━\u001b[0m\u001b[37m\u001b[0m \u001b[1m3s\u001b[0m 3ms/step - loss: 69.8410 - mean_squared_error: 69.8410\n",
      "Epoch 32/100\n",
      "\u001b[1m1140/1140\u001b[0m \u001b[32m━━━━━━━━━━━━━━━━━━━━\u001b[0m\u001b[37m\u001b[0m \u001b[1m3s\u001b[0m 3ms/step - loss: 70.2412 - mean_squared_error: 70.2412\n",
      "Epoch 33/100\n",
      "\u001b[1m1140/1140\u001b[0m \u001b[32m━━━━━━━━━━━━━━━━━━━━\u001b[0m\u001b[37m\u001b[0m \u001b[1m5s\u001b[0m 2ms/step - loss: 69.6731 - mean_squared_error: 69.6731\n",
      "Epoch 34/100\n",
      "\u001b[1m1140/1140\u001b[0m \u001b[32m━━━━━━━━━━━━━━━━━━━━\u001b[0m\u001b[37m\u001b[0m \u001b[1m5s\u001b[0m 4ms/step - loss: 68.6973 - mean_squared_error: 68.6973\n",
      "Epoch 35/100\n",
      "\u001b[1m1140/1140\u001b[0m \u001b[32m━━━━━━━━━━━━━━━━━━━━\u001b[0m\u001b[37m\u001b[0m \u001b[1m3s\u001b[0m 3ms/step - loss: 69.6291 - mean_squared_error: 69.6291\n",
      "Epoch 36/100\n",
      "\u001b[1m1140/1140\u001b[0m \u001b[32m━━━━━━━━━━━━━━━━━━━━\u001b[0m\u001b[37m\u001b[0m \u001b[1m3s\u001b[0m 2ms/step - loss: 69.1526 - mean_squared_error: 69.1526\n",
      "Epoch 37/100\n",
      "\u001b[1m1140/1140\u001b[0m \u001b[32m━━━━━━━━━━━━━━━━━━━━\u001b[0m\u001b[37m\u001b[0m \u001b[1m3s\u001b[0m 2ms/step - loss: 69.4311 - mean_squared_error: 69.4311\n",
      "Epoch 38/100\n",
      "\u001b[1m1140/1140\u001b[0m \u001b[32m━━━━━━━━━━━━━━━━━━━━\u001b[0m\u001b[37m\u001b[0m \u001b[1m3s\u001b[0m 3ms/step - loss: 69.5191 - mean_squared_error: 69.5191\n",
      "Epoch 39/100\n",
      "\u001b[1m1140/1140\u001b[0m \u001b[32m━━━━━━━━━━━━━━━━━━━━\u001b[0m\u001b[37m\u001b[0m \u001b[1m3s\u001b[0m 2ms/step - loss: 69.4930 - mean_squared_error: 69.4930\n",
      "Epoch 40/100\n",
      "\u001b[1m1140/1140\u001b[0m \u001b[32m━━━━━━━━━━━━━━━━━━━━\u001b[0m\u001b[37m\u001b[0m \u001b[1m3s\u001b[0m 2ms/step - loss: 69.9854 - mean_squared_error: 69.9854\n",
      "Epoch 41/100\n",
      "\u001b[1m1140/1140\u001b[0m \u001b[32m━━━━━━━━━━━━━━━━━━━━\u001b[0m\u001b[37m\u001b[0m \u001b[1m2s\u001b[0m 2ms/step - loss: 69.9982 - mean_squared_error: 69.9982\n",
      "Epoch 42/100\n",
      "\u001b[1m1140/1140\u001b[0m \u001b[32m━━━━━━━━━━━━━━━━━━━━\u001b[0m\u001b[37m\u001b[0m \u001b[1m2s\u001b[0m 2ms/step - loss: 69.4820 - mean_squared_error: 69.4820\n",
      "Epoch 43/100\n",
      "\u001b[1m1140/1140\u001b[0m \u001b[32m━━━━━━━━━━━━━━━━━━━━\u001b[0m\u001b[37m\u001b[0m \u001b[1m2s\u001b[0m 2ms/step - loss: 69.3742 - mean_squared_error: 69.3742\n",
      "Epoch 44/100\n",
      "\u001b[1m1140/1140\u001b[0m \u001b[32m━━━━━━━━━━━━━━━━━━━━\u001b[0m\u001b[37m\u001b[0m \u001b[1m2s\u001b[0m 2ms/step - loss: 68.7786 - mean_squared_error: 68.7786\n",
      "Epoch 45/100\n",
      "\u001b[1m1140/1140\u001b[0m \u001b[32m━━━━━━━━━━━━━━━━━━━━\u001b[0m\u001b[37m\u001b[0m \u001b[1m2s\u001b[0m 2ms/step - loss: 69.8664 - mean_squared_error: 69.8664\n",
      "Epoch 46/100\n",
      "\u001b[1m1140/1140\u001b[0m \u001b[32m━━━━━━━━━━━━━━━━━━━━\u001b[0m\u001b[37m\u001b[0m \u001b[1m2s\u001b[0m 2ms/step - loss: 69.0183 - mean_squared_error: 69.0183\n",
      "Epoch 47/100\n",
      "\u001b[1m1140/1140\u001b[0m \u001b[32m━━━━━━━━━━━━━━━━━━━━\u001b[0m\u001b[37m\u001b[0m \u001b[1m3s\u001b[0m 2ms/step - loss: 69.2524 - mean_squared_error: 69.2524\n",
      "Epoch 48/100\n",
      "\u001b[1m1140/1140\u001b[0m \u001b[32m━━━━━━━━━━━━━━━━━━━━\u001b[0m\u001b[37m\u001b[0m \u001b[1m3s\u001b[0m 2ms/step - loss: 69.2035 - mean_squared_error: 69.2035\n",
      "Epoch 49/100\n",
      "\u001b[1m1140/1140\u001b[0m \u001b[32m━━━━━━━━━━━━━━━━━━━━\u001b[0m\u001b[37m\u001b[0m \u001b[1m3s\u001b[0m 2ms/step - loss: 69.7022 - mean_squared_error: 69.7022\n",
      "Epoch 50/100\n",
      "\u001b[1m1140/1140\u001b[0m \u001b[32m━━━━━━━━━━━━━━━━━━━━\u001b[0m\u001b[37m\u001b[0m \u001b[1m3s\u001b[0m 2ms/step - loss: 69.9521 - mean_squared_error: 69.9521\n",
      "Epoch 51/100\n",
      "\u001b[1m1140/1140\u001b[0m \u001b[32m━━━━━━━━━━━━━━━━━━━━\u001b[0m\u001b[37m\u001b[0m \u001b[1m2s\u001b[0m 2ms/step - loss: 70.1216 - mean_squared_error: 70.1216\n",
      "Epoch 52/100\n",
      "\u001b[1m1140/1140\u001b[0m \u001b[32m━━━━━━━━━━━━━━━━━━━━\u001b[0m\u001b[37m\u001b[0m \u001b[1m2s\u001b[0m 2ms/step - loss: 70.0840 - mean_squared_error: 70.0840\n",
      "Epoch 53/100\n",
      "\u001b[1m1140/1140\u001b[0m \u001b[32m━━━━━━━━━━━━━━━━━━━━\u001b[0m\u001b[37m\u001b[0m \u001b[1m2s\u001b[0m 2ms/step - loss: 69.3304 - mean_squared_error: 69.3304\n",
      "Epoch 54/100\n",
      "\u001b[1m1140/1140\u001b[0m \u001b[32m━━━━━━━━━━━━━━━━━━━━\u001b[0m\u001b[37m\u001b[0m \u001b[1m3s\u001b[0m 2ms/step - loss: 69.6405 - mean_squared_error: 69.6405\n",
      "Epoch 55/100\n",
      "\u001b[1m1140/1140\u001b[0m \u001b[32m━━━━━━━━━━━━━━━━━━━━\u001b[0m\u001b[37m\u001b[0m \u001b[1m3s\u001b[0m 3ms/step - loss: 67.8328 - mean_squared_error: 67.8328\n",
      "Epoch 56/100\n",
      "\u001b[1m1140/1140\u001b[0m \u001b[32m━━━━━━━━━━━━━━━━━━━━\u001b[0m\u001b[37m\u001b[0m \u001b[1m3s\u001b[0m 2ms/step - loss: 67.5884 - mean_squared_error: 67.5884\n",
      "Epoch 57/100\n",
      "\u001b[1m1140/1140\u001b[0m \u001b[32m━━━━━━━━━━━━━━━━━━━━\u001b[0m\u001b[37m\u001b[0m \u001b[1m3s\u001b[0m 2ms/step - loss: 68.3099 - mean_squared_error: 68.3099\n",
      "Epoch 58/100\n",
      "\u001b[1m1140/1140\u001b[0m \u001b[32m━━━━━━━━━━━━━━━━━━━━\u001b[0m\u001b[37m\u001b[0m \u001b[1m2s\u001b[0m 2ms/step - loss: 67.2788 - mean_squared_error: 67.2788\n",
      "Epoch 59/100\n",
      "\u001b[1m1140/1140\u001b[0m \u001b[32m━━━━━━━━━━━━━━━━━━━━\u001b[0m\u001b[37m\u001b[0m \u001b[1m3s\u001b[0m 2ms/step - loss: 66.9023 - mean_squared_error: 66.9023\n",
      "Epoch 60/100\n",
      "\u001b[1m1140/1140\u001b[0m \u001b[32m━━━━━━━━━━━━━━━━━━━━\u001b[0m\u001b[37m\u001b[0m \u001b[1m2s\u001b[0m 2ms/step - loss: 68.5991 - mean_squared_error: 68.5991\n",
      "Epoch 61/100\n",
      "\u001b[1m1140/1140\u001b[0m \u001b[32m━━━━━━━━━━━━━━━━━━━━\u001b[0m\u001b[37m\u001b[0m \u001b[1m3s\u001b[0m 2ms/step - loss: 68.1629 - mean_squared_error: 68.1629\n",
      "Epoch 62/100\n",
      "\u001b[1m1140/1140\u001b[0m \u001b[32m━━━━━━━━━━━━━━━━━━━━\u001b[0m\u001b[37m\u001b[0m \u001b[1m2s\u001b[0m 2ms/step - loss: 67.3245 - mean_squared_error: 67.3245\n",
      "Epoch 63/100\n",
      "\u001b[1m1140/1140\u001b[0m \u001b[32m━━━━━━━━━━━━━━━━━━━━\u001b[0m\u001b[37m\u001b[0m \u001b[1m3s\u001b[0m 2ms/step - loss: 67.4663 - mean_squared_error: 67.4663\n",
      "Epoch 64/100\n",
      "\u001b[1m1140/1140\u001b[0m \u001b[32m━━━━━━━━━━━━━━━━━━━━\u001b[0m\u001b[37m\u001b[0m \u001b[1m2s\u001b[0m 2ms/step - loss: 67.0010 - mean_squared_error: 67.0010\n",
      "Epoch 65/100\n",
      "\u001b[1m1140/1140\u001b[0m \u001b[32m━━━━━━━━━━━━━━━━━━━━\u001b[0m\u001b[37m\u001b[0m \u001b[1m3s\u001b[0m 2ms/step - loss: 67.4161 - mean_squared_error: 67.4161\n",
      "Epoch 66/100\n",
      "\u001b[1m1140/1140\u001b[0m \u001b[32m━━━━━━━━━━━━━━━━━━━━\u001b[0m\u001b[37m\u001b[0m \u001b[1m3s\u001b[0m 2ms/step - loss: 66.9155 - mean_squared_error: 66.9155\n",
      "Epoch 67/100\n",
      "\u001b[1m1140/1140\u001b[0m \u001b[32m━━━━━━━━━━━━━━━━━━━━\u001b[0m\u001b[37m\u001b[0m \u001b[1m2s\u001b[0m 2ms/step - loss: 67.0681 - mean_squared_error: 67.0681\n",
      "Epoch 68/100\n",
      "\u001b[1m1140/1140\u001b[0m \u001b[32m━━━━━━━━━━━━━━━━━━━━\u001b[0m\u001b[37m\u001b[0m \u001b[1m3s\u001b[0m 2ms/step - loss: 66.6314 - mean_squared_error: 66.6314\n",
      "Epoch 69/100\n",
      "\u001b[1m1140/1140\u001b[0m \u001b[32m━━━━━━━━━━━━━━━━━━━━\u001b[0m\u001b[37m\u001b[0m \u001b[1m3s\u001b[0m 2ms/step - loss: 65.9867 - mean_squared_error: 65.9867\n",
      "Epoch 70/100\n",
      "\u001b[1m1140/1140\u001b[0m \u001b[32m━━━━━━━━━━━━━━━━━━━━\u001b[0m\u001b[37m\u001b[0m \u001b[1m3s\u001b[0m 2ms/step - loss: 67.0519 - mean_squared_error: 67.0519\n",
      "Epoch 71/100\n",
      "\u001b[1m1140/1140\u001b[0m \u001b[32m━━━━━━━━━━━━━━━━━━━━\u001b[0m\u001b[37m\u001b[0m \u001b[1m3s\u001b[0m 2ms/step - loss: 67.8100 - mean_squared_error: 67.8100\n",
      "Epoch 72/100\n",
      "\u001b[1m1140/1140\u001b[0m \u001b[32m━━━━━━━━━━━━━━━━━━━━\u001b[0m\u001b[37m\u001b[0m \u001b[1m3s\u001b[0m 2ms/step - loss: 67.6393 - mean_squared_error: 67.6393\n",
      "Epoch 73/100\n",
      "\u001b[1m1140/1140\u001b[0m \u001b[32m━━━━━━━━━━━━━━━━━━━━\u001b[0m\u001b[37m\u001b[0m \u001b[1m3s\u001b[0m 2ms/step - loss: 66.2342 - mean_squared_error: 66.2342\n",
      "Epoch 74/100\n",
      "\u001b[1m1140/1140\u001b[0m \u001b[32m━━━━━━━━━━━━━━━━━━━━\u001b[0m\u001b[37m\u001b[0m \u001b[1m3s\u001b[0m 2ms/step - loss: 67.1486 - mean_squared_error: 67.1486\n",
      "Epoch 75/100\n",
      "\u001b[1m1140/1140\u001b[0m \u001b[32m━━━━━━━━━━━━━━━━━━━━\u001b[0m\u001b[37m\u001b[0m \u001b[1m2s\u001b[0m 2ms/step - loss: 65.7322 - mean_squared_error: 65.7322\n",
      "Epoch 76/100\n",
      "\u001b[1m1140/1140\u001b[0m \u001b[32m━━━━━━━━━━━━━━━━━━━━\u001b[0m\u001b[37m\u001b[0m \u001b[1m3s\u001b[0m 2ms/step - loss: 65.6118 - mean_squared_error: 65.6118\n",
      "Epoch 77/100\n",
      "\u001b[1m1140/1140\u001b[0m \u001b[32m━━━━━━━━━━━━━━━━━━━━\u001b[0m\u001b[37m\u001b[0m \u001b[1m3s\u001b[0m 2ms/step - loss: 66.2131 - mean_squared_error: 66.2131\n",
      "Epoch 78/100\n",
      "\u001b[1m1140/1140\u001b[0m \u001b[32m━━━━━━━━━━━━━━━━━━━━\u001b[0m\u001b[37m\u001b[0m \u001b[1m3s\u001b[0m 2ms/step - loss: 66.2603 - mean_squared_error: 66.2603\n",
      "Epoch 79/100\n",
      "\u001b[1m1140/1140\u001b[0m \u001b[32m━━━━━━━━━━━━━━━━━━━━\u001b[0m\u001b[37m\u001b[0m \u001b[1m3s\u001b[0m 2ms/step - loss: 66.0005 - mean_squared_error: 66.0005\n",
      "Epoch 80/100\n",
      "\u001b[1m1140/1140\u001b[0m \u001b[32m━━━━━━━━━━━━━━━━━━━━\u001b[0m\u001b[37m\u001b[0m \u001b[1m3s\u001b[0m 2ms/step - loss: 67.0554 - mean_squared_error: 67.0554\n",
      "Epoch 81/100\n",
      "\u001b[1m1140/1140\u001b[0m \u001b[32m━━━━━━━━━━━━━━━━━━━━\u001b[0m\u001b[37m\u001b[0m \u001b[1m3s\u001b[0m 2ms/step - loss: 66.5722 - mean_squared_error: 66.5722\n",
      "Epoch 82/100\n",
      "\u001b[1m1140/1140\u001b[0m \u001b[32m━━━━━━━━━━━━━━━━━━━━\u001b[0m\u001b[37m\u001b[0m \u001b[1m3s\u001b[0m 2ms/step - loss: 66.2860 - mean_squared_error: 66.2860\n",
      "Epoch 83/100\n",
      "\u001b[1m1140/1140\u001b[0m \u001b[32m━━━━━━━━━━━━━━━━━━━━\u001b[0m\u001b[37m\u001b[0m \u001b[1m3s\u001b[0m 2ms/step - loss: 66.4562 - mean_squared_error: 66.4562\n",
      "Epoch 84/100\n",
      "\u001b[1m1140/1140\u001b[0m \u001b[32m━━━━━━━━━━━━━━━━━━━━\u001b[0m\u001b[37m\u001b[0m \u001b[1m3s\u001b[0m 2ms/step - loss: 65.2115 - mean_squared_error: 65.2115\n",
      "Epoch 85/100\n",
      "\u001b[1m1140/1140\u001b[0m \u001b[32m━━━━━━━━━━━━━━━━━━━━\u001b[0m\u001b[37m\u001b[0m \u001b[1m3s\u001b[0m 2ms/step - loss: 66.1427 - mean_squared_error: 66.1427\n",
      "Epoch 86/100\n",
      "\u001b[1m1140/1140\u001b[0m \u001b[32m━━━━━━━━━━━━━━━━━━━━\u001b[0m\u001b[37m\u001b[0m \u001b[1m3s\u001b[0m 2ms/step - loss: 65.7966 - mean_squared_error: 65.7966\n",
      "Epoch 87/100\n",
      "\u001b[1m1140/1140\u001b[0m \u001b[32m━━━━━━━━━━━━━━━━━━━━\u001b[0m\u001b[37m\u001b[0m \u001b[1m3s\u001b[0m 2ms/step - loss: 65.1067 - mean_squared_error: 65.1067\n",
      "Epoch 88/100\n",
      "\u001b[1m1140/1140\u001b[0m \u001b[32m━━━━━━━━━━━━━━━━━━━━\u001b[0m\u001b[37m\u001b[0m \u001b[1m3s\u001b[0m 2ms/step - loss: 65.1037 - mean_squared_error: 65.1037\n",
      "Epoch 89/100\n",
      "\u001b[1m1140/1140\u001b[0m \u001b[32m━━━━━━━━━━━━━━━━━━━━\u001b[0m\u001b[37m\u001b[0m \u001b[1m3s\u001b[0m 2ms/step - loss: 65.2494 - mean_squared_error: 65.2494\n",
      "Epoch 90/100\n",
      "\u001b[1m1140/1140\u001b[0m \u001b[32m━━━━━━━━━━━━━━━━━━━━\u001b[0m\u001b[37m\u001b[0m \u001b[1m3s\u001b[0m 2ms/step - loss: 66.8044 - mean_squared_error: 66.8044\n",
      "Epoch 91/100\n",
      "\u001b[1m1140/1140\u001b[0m \u001b[32m━━━━━━━━━━━━━━━━━━━━\u001b[0m\u001b[37m\u001b[0m \u001b[1m3s\u001b[0m 2ms/step - loss: 66.4382 - mean_squared_error: 66.4382\n",
      "Epoch 92/100\n",
      "\u001b[1m1140/1140\u001b[0m \u001b[32m━━━━━━━━━━━━━━━━━━━━\u001b[0m\u001b[37m\u001b[0m \u001b[1m3s\u001b[0m 2ms/step - loss: 66.2360 - mean_squared_error: 66.2360\n",
      "Epoch 93/100\n",
      "\u001b[1m1140/1140\u001b[0m \u001b[32m━━━━━━━━━━━━━━━━━━━━\u001b[0m\u001b[37m\u001b[0m \u001b[1m3s\u001b[0m 2ms/step - loss: 65.6386 - mean_squared_error: 65.6386\n",
      "Epoch 94/100\n",
      "\u001b[1m1140/1140\u001b[0m \u001b[32m━━━━━━━━━━━━━━━━━━━━\u001b[0m\u001b[37m\u001b[0m \u001b[1m3s\u001b[0m 2ms/step - loss: 65.4535 - mean_squared_error: 65.4535\n",
      "Epoch 95/100\n",
      "\u001b[1m1140/1140\u001b[0m \u001b[32m━━━━━━━━━━━━━━━━━━━━\u001b[0m\u001b[37m\u001b[0m \u001b[1m3s\u001b[0m 2ms/step - loss: 66.0039 - mean_squared_error: 66.0039\n",
      "Epoch 96/100\n",
      "\u001b[1m1140/1140\u001b[0m \u001b[32m━━━━━━━━━━━━━━━━━━━━\u001b[0m\u001b[37m\u001b[0m \u001b[1m3s\u001b[0m 2ms/step - loss: 66.3679 - mean_squared_error: 66.3679\n",
      "Epoch 97/100\n",
      "\u001b[1m1140/1140\u001b[0m \u001b[32m━━━━━━━━━━━━━━━━━━━━\u001b[0m\u001b[37m\u001b[0m \u001b[1m3s\u001b[0m 2ms/step - loss: 65.7512 - mean_squared_error: 65.7512\n",
      "Epoch 98/100\n",
      "\u001b[1m1140/1140\u001b[0m \u001b[32m━━━━━━━━━━━━━━━━━━━━\u001b[0m\u001b[37m\u001b[0m \u001b[1m3s\u001b[0m 2ms/step - loss: 64.7944 - mean_squared_error: 64.7944\n",
      "Epoch 99/100\n",
      "\u001b[1m1140/1140\u001b[0m \u001b[32m━━━━━━━━━━━━━━━━━━━━\u001b[0m\u001b[37m\u001b[0m \u001b[1m3s\u001b[0m 2ms/step - loss: 65.1980 - mean_squared_error: 65.1980\n",
      "Epoch 100/100\n",
      "\u001b[1m1140/1140\u001b[0m \u001b[32m━━━━━━━━━━━━━━━━━━━━\u001b[0m\u001b[37m\u001b[0m \u001b[1m3s\u001b[0m 2ms/step - loss: 65.9138 - mean_squared_error: 65.9138\n",
      "Time taken for Convolutional Neural Network 281.466168s\n"
     ]
    }
   ],
   "source": [
    "start = pd.Timestamp.now()\n",
    "model_cnn.fit(X_train,y_train,batch_size=32,epochs=100)\n",
    "timeTaken_cnn = pd.Timestamp.now() - start\n",
    "print(f\"Time taken for Convolutional Neural Network {timeTaken_cnn.total_seconds()}s\")\n",
    "metric_tt[\"Convolutional Neural Network\"] = timeTaken_xgb"
   ]
  },
  {
   "cell_type": "code",
   "execution_count": 54,
   "id": "6d1285b3",
   "metadata": {},
   "outputs": [
    {
     "name": "stdout",
     "output_type": "stream",
     "text": [
      "\u001b[1m1140/1140\u001b[0m \u001b[32m━━━━━━━━━━━━━━━━━━━━\u001b[0m\u001b[37m\u001b[0m \u001b[1m2s\u001b[0m 2ms/step\n"
     ]
    }
   ],
   "source": [
    "y_pred_cnn =model_cnn.predict(X_train)\n"
   ]
  },
  {
   "cell_type": "code",
   "execution_count": 55,
   "id": "26a293d6-c1a1-4b76-aefc-c8d0106b4608",
   "metadata": {},
   "outputs": [
    {
     "data": {
      "text/plain": [
       "array([[35.03803 ],\n",
       "       [24.767036],\n",
       "       [36.68186 ],\n",
       "       [23.11259 ],\n",
       "       [33.3702  ]], dtype=float32)"
      ]
     },
     "execution_count": 55,
     "metadata": {},
     "output_type": "execute_result"
    }
   ],
   "source": [
    "y_pred_cnn[:5]"
   ]
  },
  {
   "cell_type": "code",
   "execution_count": 56,
   "id": "2cb57610-6ce2-4d3d-ac52-f12591c66d96",
   "metadata": {},
   "outputs": [
    {
     "data": {
      "text/plain": [
       "21862    31\n",
       "24165    22\n",
       "31141    31\n",
       "2743     24\n",
       "14292    33\n",
       "Name: Time_taken(min), dtype: int64"
      ]
     },
     "execution_count": 56,
     "metadata": {},
     "output_type": "execute_result"
    }
   ],
   "source": [
    "y_train[:5]"
   ]
  },
  {
   "cell_type": "code",
   "execution_count": 57,
   "id": "cfcc5784-b0fa-4c32-b3fe-1c23561c0de2",
   "metadata": {},
   "outputs": [
    {
     "name": "stdout",
     "output_type": "stream",
     "text": [
      "Mean Squared Error for Convolutional Neural Network 65.81235013144897\n"
     ]
    }
   ],
   "source": [
    "mse=mean_squared_error(y_true = y_train, y_pred = y_pred_cnn)\n",
    "print(f\"Mean Squared Error for Convolutional Neural Network {mse}\")\n",
    "metric_mse[\"Convolutional Neural Network\"] = mse"
   ]
  },
  {
   "cell_type": "code",
   "execution_count": 58,
   "id": "e440deb1-1692-464c-a15a-d29f091028e2",
   "metadata": {},
   "outputs": [
    {
     "name": "stdout",
     "output_type": "stream",
     "text": [
      "R2 score for Convolutional Neural Network 0.2538418537421173\n"
     ]
    }
   ],
   "source": [
    "r2=r2_score(y_true = y_train, y_pred = y_pred_cnn)\n",
    "print(f\"R2 score for Convolutional Neural Network {r2}\")\n",
    "metric_r2[\"Convolutional Neural Network\"] = r2"
   ]
  },
  {
   "cell_type": "code",
   "execution_count": 59,
   "id": "b73d4ee7-ad0c-48f8-b889-be00fa13d840",
   "metadata": {},
   "outputs": [],
   "source": [
    "metrices = pd.DataFrame(data=metric_mse.keys(), columns=['Algorithms'])"
   ]
  },
  {
   "cell_type": "code",
   "execution_count": 60,
   "id": "01d360c0-5c06-488a-bf50-e23e3b1fa0a0",
   "metadata": {},
   "outputs": [],
   "source": [
    "metrices['R2'] = metrices.Algorithms.map(metric_r2)\n",
    "metrices['Mean Squared Error'] = metrices.Algorithms.map(metric_mse)\n"
   ]
  },
  {
   "cell_type": "code",
   "execution_count": 61,
   "id": "55b4b6fd-6056-4ec6-bc5d-c87a5213a514",
   "metadata": {},
   "outputs": [
    {
     "data": {
      "text/html": [
       "<div>\n",
       "<style scoped>\n",
       "    .dataframe tbody tr th:only-of-type {\n",
       "        vertical-align: middle;\n",
       "    }\n",
       "\n",
       "    .dataframe tbody tr th {\n",
       "        vertical-align: top;\n",
       "    }\n",
       "\n",
       "    .dataframe thead th {\n",
       "        text-align: right;\n",
       "    }\n",
       "</style>\n",
       "<table border=\"1\" class=\"dataframe\">\n",
       "  <thead>\n",
       "    <tr style=\"text-align: right;\">\n",
       "      <th></th>\n",
       "      <th>Algorithms</th>\n",
       "      <th>R2</th>\n",
       "      <th>Mean Squared Error</th>\n",
       "    </tr>\n",
       "  </thead>\n",
       "  <tbody>\n",
       "    <tr>\n",
       "      <th>0</th>\n",
       "      <td>Random Forest</td>\n",
       "      <td>0.900023</td>\n",
       "      <td>8.818119</td>\n",
       "    </tr>\n",
       "    <tr>\n",
       "      <th>1</th>\n",
       "      <td>Decision Tree</td>\n",
       "      <td>0.991104</td>\n",
       "      <td>0.784618</td>\n",
       "    </tr>\n",
       "    <tr>\n",
       "      <th>2</th>\n",
       "      <td>XG Boost</td>\n",
       "      <td>0.524441</td>\n",
       "      <td>41.945075</td>\n",
       "    </tr>\n",
       "    <tr>\n",
       "      <th>3</th>\n",
       "      <td>Convolutional Neural Network</td>\n",
       "      <td>0.253842</td>\n",
       "      <td>65.812350</td>\n",
       "    </tr>\n",
       "  </tbody>\n",
       "</table>\n",
       "</div>"
      ],
      "text/plain": [
       "                     Algorithms        R2  Mean Squared Error\n",
       "0                 Random Forest  0.900023            8.818119\n",
       "1                 Decision Tree  0.991104            0.784618\n",
       "2                      XG Boost  0.524441           41.945075\n",
       "3  Convolutional Neural Network  0.253842           65.812350"
      ]
     },
     "execution_count": 61,
     "metadata": {},
     "output_type": "execute_result"
    }
   ],
   "source": [
    "metrices"
   ]
  },
  {
   "cell_type": "code",
   "execution_count": 62,
   "id": "39c9ae97-8011-442c-82b5-b75212daed4a",
   "metadata": {},
   "outputs": [
    {
     "data": {
      "image/png": "[encoded data removed]",
      "text/plain": [
       "<Figure size 600x300 with 1 Axes>"
      ]
     },
     "metadata": {},
     "output_type": "display_data"
    }
   ],
   "source": [
    "sns.catplot(data = metrices, x= 'R2', y='Algorithms', kind=\"bar\", height=3, aspect=2)\n",
    "plt.show()"
   ]
  },
  {
   "cell_type": "code",
   "execution_count": 63,
   "id": "6afa565a-79b0-48b7-ad28-5365a0d57877",
   "metadata": {},
   "outputs": [
    {
     "data": {
      "image/png": "[encoded data removed]",
      "text/plain": [
       "<Figure size 600x300 with 1 Axes>"
      ]
     },
     "metadata": {},
     "output_type": "display_data"
    }
   ],
   "source": [
    "sns.catplot(data = metrices, y= 'Mean Squared Error', x='Algorithms', kind=\"bar\", height=3, aspect=2)\n",
    "plt.xticks(rotation = 45)\n",
    "plt.show()"
   ]
  }
 ],
 "metadata": {
  "kernelspec": {
   "display_name": "Python 3 (ipykernel)",
   "language": "python",
   "name": "python3"
  },
  "language_info": {
   "codemirror_mode": {
    "name": "ipython",
    "version": 3
   },
   "file_extension": ".py",
   "mimetype": "text/x-python",
   "name": "python",
   "nbconvert_exporter": "python",
   "pygments_lexer": "ipython3",
   "version": "3.11.7"
  }
 },
 "nbformat": 4,
 "nbformat_minor": 5
}
